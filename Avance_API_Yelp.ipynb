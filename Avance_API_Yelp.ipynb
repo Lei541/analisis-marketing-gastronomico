{
 "cells": [
  {
   "cell_type": "markdown",
   "id": "4d961eca",
   "metadata": {},
   "source": [
    "# Indice: \n",
    "**Parte 1:** \n",
    "- Conexión a la API de YELP\n",
    "\n",
    "**Parte 2:**\n",
    "- Carga de datos\n",
    "- Exploración inicial\n",
    "- Descripción de los datos (API Yelp - restaurantes):\n",
    "\n",
    "- Elaboración de rating de mejores restaurant para recomendar.\n",
    "    1. Análisis de las variables relevantes\n",
    "    2. Elaboración de rating ponderado.\n",
    "    3. Revisión del rating ponderado\n",
    "    4. Reajuste: nuevo rating\n",
    "    5. Revisión de nuevo rating."
   ]
  },
  {
   "cell_type": "markdown",
   "id": "0da58144",
   "metadata": {},
   "source": [
    "## **Parte 1:** \n",
    "### Conexión a la API de YELP"
   ]
  },
  {
   "cell_type": "code",
   "execution_count": null,
   "id": "eb7cbd95",
   "metadata": {
    "id": "eb7cbd95"
   },
   "outputs": [],
   "source": [
    "import pandas as pd\n",
    "import requests\n",
    "import numpy as np\n",
    "import matplotlib.pyplot as plt\n",
    "import seaborn as sns\n",
    "import ast #usada para extraer categoría del restaurant "
   ]
  },
  {
   "cell_type": "code",
   "execution_count": 2,
   "id": "edb6220e",
   "metadata": {
    "id": "edb6220e"
   },
   "outputs": [],
   "source": [
    "pd.set_option('display.max_columns', None)\n",
    "pd.set_option('display.max_rows', None)"
   ]
  },
  {
   "cell_type": "code",
   "execution_count": null,
   "id": "e617e242",
   "metadata": {
    "id": "e617e242"
   },
   "outputs": [],
   "source": [
    "#url de la API: Endpoint principal de Yelp\n",
    "api_url='https://api.yelp.com/v3/businesses/search'\n",
    "\n",
    "#estos datos corresponden a una cuenta de usuario creada previamente\n",
    "clientid='tu_id'\n",
    "apikey='tu_key'\n",
    "headers={'Authorization':'Bearer %s'%apikey}"
   ]
  },
  {
   "cell_type": "code",
   "execution_count": 4,
   "id": "a6913e01",
   "metadata": {
    "id": "a6913e01"
   },
   "outputs": [],
   "source": [
    "ciudad = \"Miami\" # Ciudad elegida"
   ]
  },
  {
   "cell_type": "code",
   "execution_count": null,
   "id": "1a656b1e",
   "metadata": {},
   "outputs": [
    {
     "name": "stdout",
     "output_type": "stream",
     "text": [
      "Total resultados descargados: 200\n"
     ]
    }
   ],
   "source": [
    "# Lista vacía para guardar resultados: \n",
    "\n",
    "todos_resultados = []\n",
    "\n",
    "# En 2025, Yelp permite hasta 200 resultados (page no existe en Yelp; se pagina con offset)\n",
    "for offset in [0, 50, 100, 150]: # hago request de a 50.\n",
    "    params = {\n",
    "        \"term\": \"restaurants\",\n",
    "        \"location\": ciudad,\n",
    "        \"limit\": 50,\n",
    "        \"offset\": offset\n",
    "    }\n",
    "    #hacemos request:\n",
    "    response = requests.get(api_url, params=params, headers=headers)\n",
    "\n",
    "    #si hay error, corta:\n",
    "    if response.status_code != 200:\n",
    "        print(f\"Error en request (offset={offset}):\", response.json())\n",
    "        break\n",
    "\n",
    "    #sino, convierte response a json\n",
    "    data = response.json()\n",
    "    negocios = data.get(\"businesses\", []) #toma businesses (lista de negocios) que es lo que nos interesa \n",
    "    \n",
    "    if not negocios:  # si ya no hay más resultados, corto el loop\n",
    "        break\n",
    "    \n",
    "    todos_resultados.extend(negocios)\n",
    "\n",
    "print(f\"Total resultados descargados: {len(todos_resultados)}\")\n",
    "\n"
   ]
  },
  {
   "cell_type": "code",
   "execution_count": null,
   "id": "62d1d866",
   "metadata": {},
   "outputs": [
    {
     "name": "stdout",
     "output_type": "stream",
     "text": [
      "                       id                                   alias  \\\n",
      "0  K3ukx2e11xTRtYBU01dmrA                       salty-flame-miami   \n",
      "1  ix8ifP1jQM9ektdVAs19sQ                 crazy-about-you-miami-3   \n",
      "2  UXHxLN3DcDGI57uDIfCuJA  olds-havana-cuban-bar-and-cocina-miami   \n",
      "3  oxtMfBGmVNE18pFVuw7lFg               fratellino-coral-gables-2   \n",
      "4  WqIBKxRUPXH3NqTViAHLxQ       bayshore-club-bar-and-grill-miami   \n",
      "\n",
      "                              name  \\\n",
      "0                      Salty Flame   \n",
      "1                  Crazy About You   \n",
      "2  Old's Havana Cuban Bar & Cocina   \n",
      "3                       Fratellino   \n",
      "4        Bayshore Club Bar & Grill   \n",
      "\n",
      "                                           image_url  is_closed  \\\n",
      "0  https://s3-media0.fl.yelpcdn.com/bphoto/_6wShT...      False   \n",
      "1  https://s3-media0.fl.yelpcdn.com/bphoto/vvQBoP...      False   \n",
      "2  https://s3-media0.fl.yelpcdn.com/bphoto/OyMD-x...      False   \n",
      "3  https://s3-media0.fl.yelpcdn.com/bphoto/OPS9ib...      False   \n",
      "4  https://s3-media0.fl.yelpcdn.com/bphoto/B7tTbJ...      False   \n",
      "\n",
      "                                                 url  review_count  \\\n",
      "0  https://www.yelp.com/biz/salty-flame-miami?adj...           190   \n",
      "1  https://www.yelp.com/biz/crazy-about-you-miami...          2784   \n",
      "2  https://www.yelp.com/biz/olds-havana-cuban-bar...          2994   \n",
      "3  https://www.yelp.com/biz/fratellino-coral-gabl...          1811   \n",
      "4  https://www.yelp.com/biz/bayshore-club-bar-and...           945   \n",
      "\n",
      "                                          categories  rating  \\\n",
      "0  [{'alias': 'asianfusion', 'title': 'Asian Fusi...     4.4   \n",
      "1  [{'alias': 'mediterranean', 'title': 'Mediterr...     4.2   \n",
      "2  [{'alias': 'cuban', 'title': 'Cuban'}, {'alias...     4.4   \n",
      "3         [{'alias': 'italian', 'title': 'Italian'}]     4.8   \n",
      "4  [{'alias': 'seafood', 'title': 'Seafood'}, {'a...     4.3   \n",
      "\n",
      "                         transactions         phone   display_phone  \\\n",
      "0                  [delivery, pickup]  +13055638972  (305) 563-8972   \n",
      "1  [delivery, restaurant_reservation]  +13053774442  (305) 377-4442   \n",
      "2    [restaurant_reservation, pickup]  +17865182196  (786) 518-2196   \n",
      "3                  [delivery, pickup]  +17864520068  (786) 452-0068   \n",
      "4                                  []  +13052091200  (305) 209-1200   \n",
      "\n",
      "      distance  coordinates.latitude  coordinates.longitude  \\\n",
      "0  9568.050891             25.760220             -80.192670   \n",
      "1  9973.468955             25.762015             -80.188986   \n",
      "2  7035.905420             25.765594             -80.219238   \n",
      "3  2834.064937             25.749170             -80.260110   \n",
      "4  6023.917797             25.728774             -80.234162   \n",
      "\n",
      "      location.address1 location.address2 location.address3 location.city  \\\n",
      "0     1414 Brickell Ave              None                           Miami   \n",
      "1  1155 Brickell Bay Dr           Ste 101                           Miami   \n",
      "2        1442 SW 8th St                                None         Miami   \n",
      "3      264 Miracle Mile                                      Coral Gables   \n",
      "4  3391 Pan American Dr              None              None         Miami   \n",
      "\n",
      "  location.zip_code location.country location.state  \\\n",
      "0             33131               US             FL   \n",
      "1             33131               US             FL   \n",
      "2             33135               US             FL   \n",
      "3             33134               US             FL   \n",
      "4             33133               US             FL   \n",
      "\n",
      "                           location.display_address price  \n",
      "0              [1414 Brickell Ave, Miami, FL 33131]   NaN  \n",
      "1  [1155 Brickell Bay Dr, Ste 101, Miami, FL 33131]    $$  \n",
      "2                 [1442 SW 8th St, Miami, FL 33135]    $$  \n",
      "3        [264 Miracle Mile, Coral Gables, FL 33134]   $$$  \n",
      "4           [3391 Pan American Dr, Miami, FL 33133]   $$$  \n"
     ]
    }
   ],
   "source": [
    "# Convertir a DataFrame\n",
    "df = pd.json_normalize(todos_resultados)\n",
    "print(df.head())\n"
   ]
  },
  {
   "cell_type": "code",
   "execution_count": null,
   "id": "4c03ea57",
   "metadata": {
    "id": "4c03ea57",
    "outputId": "089d7f90-7555-4e4a-b162-29b26ff30769"
   },
   "outputs": [
    {
     "data": {
      "text/plain": [
       "dict_keys(['businesses', 'total', 'region'])"
      ]
     },
     "execution_count": 7,
     "metadata": {},
     "output_type": "execute_result"
    }
   ],
   "source": [
    "#Veamos los keys del diccionario recibido (businesses es la que ya tomamos que tenía la data)\n",
    "data.keys()"
   ]
  },
  {
   "cell_type": "code",
   "execution_count": null,
   "id": "99a0a327",
   "metadata": {
    "id": "99a0a327",
    "outputId": "00c11174-0d1f-4a19-ccfc-4fbe12408de5"
   },
   "outputs": [
    {
     "name": "stdout",
     "output_type": "stream",
     "text": [
      "Se descargaron 200 de 5600 restaurants de Miami en la base de Yelp (3.6%)\n"
     ]
    }
   ],
   "source": [
    "#El segundo elemento del diccionario [total] indica el total de restaurants existentes en la API\n",
    "total_restaurants = data['total']  # data es la última request, pero 'total' es siempre el total global\n",
    "\n",
    "total_bajado = len(todos_resultados)\n",
    "\n",
    "# porcentaje descargado\n",
    "porc_descargado = (total_bajado / total_restaurants) * 100\n",
    "\n",
    "print(f'Se descargaron {total_bajado} de {total_restaurants} restaurants de {ciudad} en la base de Yelp ({porc_descargado:.1f}%)')\n"
   ]
  },
  {
   "cell_type": "code",
   "execution_count": null,
   "id": "550b53fd",
   "metadata": {},
   "outputs": [],
   "source": [
    "# Guardo en CSV\n",
    "\n",
    "df.to_csv(\"yelp_restaurantes_miami.csv\", index=False)"
   ]
  },
  {
   "cell_type": "markdown",
   "id": "a2fce106",
   "metadata": {},
   "source": [
    "Este script solo lo corremos una vez. Para los análisis levantaremos el csv creado"
   ]
  },
  {
   "cell_type": "markdown",
   "id": "f8c153ac",
   "metadata": {},
   "source": [
    "### **PARTE 2:** \n",
    "\n",
    "- Abro base recién generada\n",
    "- Descripción de variables obtenidas de Yelp.  \n",
    "- Identificación de duplicados.  \n",
    "- Análisis de calidad de datos y tratamiento de valores nulos.  \n",
    "- Creación de un rating ponderado, ajustado por cantidad de reseñas.  \n",
    "- Elaboración del ranking de mejores restaurantes.  \n",
    "- Análisis de categorías de restaurantes.\n"
   ]
  },
  {
   "cell_type": "code",
   "execution_count": null,
   "id": "574e7578",
   "metadata": {},
   "outputs": [],
   "source": [
    "ruta = 'yelp_restaurantes_miami.csv'\n",
    "df= pd.read_csv(ruta) # Cargamos el DataFrame creado en request\n",
    "df_res = df.copy() # Creamos una copia del DataFrame original para trabajar con él sin modificarlo"
   ]
  },
  {
   "cell_type": "code",
   "execution_count": null,
   "id": "da955e4d",
   "metadata": {},
   "outputs": [
    {
     "name": "stdout",
     "output_type": "stream",
     "text": [
      "El DataFrame tiene 200 filas y 24 columnas.\n"
     ]
    }
   ],
   "source": [
    "print(f'El DataFrame tiene {df_res.shape[0]} filas y {df_res.shape[1]} columnas.') # 0 para filas, 1 para columnas"
   ]
  },
  {
   "cell_type": "code",
   "execution_count": null,
   "id": "8463ec36",
   "metadata": {},
   "outputs": [
    {
     "data": {
      "application/vnd.microsoft.datawrangler.viewer.v0+json": {
       "columns": [
        {
         "name": "index",
         "rawType": "int64",
         "type": "integer"
        },
        {
         "name": "id",
         "rawType": "object",
         "type": "string"
        },
        {
         "name": "alias",
         "rawType": "object",
         "type": "string"
        },
        {
         "name": "name",
         "rawType": "object",
         "type": "string"
        },
        {
         "name": "image_url",
         "rawType": "object",
         "type": "string"
        },
        {
         "name": "is_closed",
         "rawType": "bool",
         "type": "boolean"
        },
        {
         "name": "url",
         "rawType": "object",
         "type": "string"
        },
        {
         "name": "review_count",
         "rawType": "int64",
         "type": "integer"
        },
        {
         "name": "categories",
         "rawType": "object",
         "type": "string"
        },
        {
         "name": "rating",
         "rawType": "float64",
         "type": "float"
        },
        {
         "name": "transactions",
         "rawType": "object",
         "type": "string"
        },
        {
         "name": "phone",
         "rawType": "float64",
         "type": "float"
        },
        {
         "name": "display_phone",
         "rawType": "object",
         "type": "string"
        },
        {
         "name": "distance",
         "rawType": "float64",
         "type": "float"
        },
        {
         "name": "coordinates.latitude",
         "rawType": "float64",
         "type": "float"
        },
        {
         "name": "coordinates.longitude",
         "rawType": "float64",
         "type": "float"
        },
        {
         "name": "location.address1",
         "rawType": "object",
         "type": "string"
        },
        {
         "name": "location.address2",
         "rawType": "object",
         "type": "unknown"
        },
        {
         "name": "location.address3",
         "rawType": "object",
         "type": "unknown"
        },
        {
         "name": "location.city",
         "rawType": "object",
         "type": "string"
        },
        {
         "name": "location.zip_code",
         "rawType": "float64",
         "type": "float"
        },
        {
         "name": "location.country",
         "rawType": "object",
         "type": "string"
        },
        {
         "name": "location.state",
         "rawType": "object",
         "type": "string"
        },
        {
         "name": "location.display_address",
         "rawType": "object",
         "type": "string"
        },
        {
         "name": "price",
         "rawType": "object",
         "type": "unknown"
        }
       ],
       "ref": "99638098-c6cf-42f1-a88e-9568b471d341",
       "rows": [
        [
         "0",
         "K3ukx2e11xTRtYBU01dmrA",
         "salty-flame-miami",
         "Salty Flame",
         "https://s3-media0.fl.yelpcdn.com/bphoto/_6wShTvzfucB5dxFZv4Mpg/o.jpg",
         "False",
         "https://www.yelp.com/biz/salty-flame-miami?adjust_creative=GWOCZh9-BmZxtdsAjr7Gug&utm_campaign=yelp_api_v3&utm_medium=api_v3_business_search&utm_source=GWOCZh9-BmZxtdsAjr7Gug",
         "190",
         "[{'alias': 'asianfusion', 'title': 'Asian Fusion'}, {'alias': 'steak', 'title': 'Steakhouses'}, {'alias': 'cocktailbars', 'title': 'Cocktail Bars'}]",
         "4.4",
         "['delivery', 'pickup']",
         "13055638972.0",
         "(305) 563-8972",
         "9568.050891007852",
         "25.76022",
         "-80.19267",
         "1414 Brickell Ave",
         null,
         null,
         "Miami",
         "33131.0",
         "US",
         "FL",
         "['1414 Brickell Ave', 'Miami, FL 33131']",
         null
        ],
        [
         "1",
         "ix8ifP1jQM9ektdVAs19sQ",
         "crazy-about-you-miami-3",
         "Crazy About You",
         "https://s3-media0.fl.yelpcdn.com/bphoto/vvQBoPHlEO5bi5fbmM1B3w/o.jpg",
         "False",
         "https://www.yelp.com/biz/crazy-about-you-miami-3?adjust_creative=GWOCZh9-BmZxtdsAjr7Gug&utm_campaign=yelp_api_v3&utm_medium=api_v3_business_search&utm_source=GWOCZh9-BmZxtdsAjr7Gug",
         "2784",
         "[{'alias': 'mediterranean', 'title': 'Mediterranean'}, {'alias': 'italian', 'title': 'Italian'}, {'alias': 'spanish', 'title': 'Spanish'}]",
         "4.2",
         "['delivery', 'restaurant_reservation']",
         "13053774442.0",
         "(305) 377-4442",
         "9973.468955482576",
         "25.762015277335745",
         "-80.1889859201474",
         "1155 Brickell Bay Dr",
         "Ste 101",
         null,
         "Miami",
         "33131.0",
         "US",
         "FL",
         "['1155 Brickell Bay Dr', 'Ste 101', 'Miami, FL 33131']",
         "$$"
        ],
        [
         "2",
         "UXHxLN3DcDGI57uDIfCuJA",
         "olds-havana-cuban-bar-and-cocina-miami",
         "Old's Havana Cuban Bar & Cocina",
         "https://s3-media0.fl.yelpcdn.com/bphoto/OyMD-xvBjobfDmDdBs2Jfw/o.jpg",
         "False",
         "https://www.yelp.com/biz/olds-havana-cuban-bar-and-cocina-miami?adjust_creative=GWOCZh9-BmZxtdsAjr7Gug&utm_campaign=yelp_api_v3&utm_medium=api_v3_business_search&utm_source=GWOCZh9-BmZxtdsAjr7Gug",
         "2994",
         "[{'alias': 'cuban', 'title': 'Cuban'}, {'alias': 'bars', 'title': 'Bars'}, {'alias': 'venues', 'title': 'Venues & Event Spaces'}]",
         "4.4",
         "['restaurant_reservation', 'pickup']",
         "17865182196.0",
         "(786) 518-2196",
         "7035.905419577772",
         "25.7655942148975",
         "-80.2192383373502",
         "1442 SW 8th St",
         null,
         null,
         "Miami",
         "33135.0",
         "US",
         "FL",
         "['1442 SW 8th St', 'Miami, FL 33135']",
         "$$"
        ],
        [
         "3",
         "oxtMfBGmVNE18pFVuw7lFg",
         "fratellino-coral-gables-2",
         "Fratellino",
         "https://s3-media0.fl.yelpcdn.com/bphoto/OPS9ibIzgVyzcJ3ZyNf9IQ/o.jpg",
         "False",
         "https://www.yelp.com/biz/fratellino-coral-gables-2?adjust_creative=GWOCZh9-BmZxtdsAjr7Gug&utm_campaign=yelp_api_v3&utm_medium=api_v3_business_search&utm_source=GWOCZh9-BmZxtdsAjr7Gug",
         "1811",
         "[{'alias': 'italian', 'title': 'Italian'}]",
         "4.8",
         "['delivery', 'pickup']",
         "17864520068.0",
         "(786) 452-0068",
         "2834.064936518243",
         "25.74917",
         "-80.26011",
         "264 Miracle Mile",
         null,
         null,
         "Coral Gables",
         "33134.0",
         "US",
         "FL",
         "['264 Miracle Mile', 'Coral Gables, FL 33134']",
         "$$$"
        ],
        [
         "4",
         "WqIBKxRUPXH3NqTViAHLxQ",
         "bayshore-club-bar-and-grill-miami",
         "Bayshore Club Bar & Grill",
         "https://s3-media0.fl.yelpcdn.com/bphoto/B7tTbJMlp7Dk6rpE4P3j5Q/o.jpg",
         "False",
         "https://www.yelp.com/biz/bayshore-club-bar-and-grill-miami?adjust_creative=GWOCZh9-BmZxtdsAjr7Gug&utm_campaign=yelp_api_v3&utm_medium=api_v3_business_search&utm_source=GWOCZh9-BmZxtdsAjr7Gug",
         "945",
         "[{'alias': 'seafood', 'title': 'Seafood'}, {'alias': 'tradamerican', 'title': 'American'}, {'alias': 'wine_bars', 'title': 'Wine Bars'}]",
         "4.3",
         "[]",
         "13052091200.0",
         "(305) 209-1200",
         "6023.917796785677",
         "25.72877375829567",
         "-80.2341624",
         "3391 Pan American Dr",
         null,
         null,
         "Miami",
         "33133.0",
         "US",
         "FL",
         "['3391 Pan American Dr', 'Miami, FL 33133']",
         "$$$"
        ]
       ],
       "shape": {
        "columns": 24,
        "rows": 5
       }
      },
      "text/html": [
       "<div>\n",
       "<style scoped>\n",
       "    .dataframe tbody tr th:only-of-type {\n",
       "        vertical-align: middle;\n",
       "    }\n",
       "\n",
       "    .dataframe tbody tr th {\n",
       "        vertical-align: top;\n",
       "    }\n",
       "\n",
       "    .dataframe thead th {\n",
       "        text-align: right;\n",
       "    }\n",
       "</style>\n",
       "<table border=\"1\" class=\"dataframe\">\n",
       "  <thead>\n",
       "    <tr style=\"text-align: right;\">\n",
       "      <th></th>\n",
       "      <th>id</th>\n",
       "      <th>alias</th>\n",
       "      <th>name</th>\n",
       "      <th>image_url</th>\n",
       "      <th>is_closed</th>\n",
       "      <th>url</th>\n",
       "      <th>review_count</th>\n",
       "      <th>categories</th>\n",
       "      <th>rating</th>\n",
       "      <th>transactions</th>\n",
       "      <th>...</th>\n",
       "      <th>coordinates.longitude</th>\n",
       "      <th>location.address1</th>\n",
       "      <th>location.address2</th>\n",
       "      <th>location.address3</th>\n",
       "      <th>location.city</th>\n",
       "      <th>location.zip_code</th>\n",
       "      <th>location.country</th>\n",
       "      <th>location.state</th>\n",
       "      <th>location.display_address</th>\n",
       "      <th>price</th>\n",
       "    </tr>\n",
       "  </thead>\n",
       "  <tbody>\n",
       "    <tr>\n",
       "      <th>0</th>\n",
       "      <td>K3ukx2e11xTRtYBU01dmrA</td>\n",
       "      <td>salty-flame-miami</td>\n",
       "      <td>Salty Flame</td>\n",
       "      <td>https://s3-media0.fl.yelpcdn.com/bphoto/_6wShT...</td>\n",
       "      <td>False</td>\n",
       "      <td>https://www.yelp.com/biz/salty-flame-miami?adj...</td>\n",
       "      <td>190</td>\n",
       "      <td>[{'alias': 'asianfusion', 'title': 'Asian Fusi...</td>\n",
       "      <td>4.4</td>\n",
       "      <td>['delivery', 'pickup']</td>\n",
       "      <td>...</td>\n",
       "      <td>-80.192670</td>\n",
       "      <td>1414 Brickell Ave</td>\n",
       "      <td>NaN</td>\n",
       "      <td>NaN</td>\n",
       "      <td>Miami</td>\n",
       "      <td>33131.0</td>\n",
       "      <td>US</td>\n",
       "      <td>FL</td>\n",
       "      <td>['1414 Brickell Ave', 'Miami, FL 33131']</td>\n",
       "      <td>NaN</td>\n",
       "    </tr>\n",
       "    <tr>\n",
       "      <th>1</th>\n",
       "      <td>ix8ifP1jQM9ektdVAs19sQ</td>\n",
       "      <td>crazy-about-you-miami-3</td>\n",
       "      <td>Crazy About You</td>\n",
       "      <td>https://s3-media0.fl.yelpcdn.com/bphoto/vvQBoP...</td>\n",
       "      <td>False</td>\n",
       "      <td>https://www.yelp.com/biz/crazy-about-you-miami...</td>\n",
       "      <td>2784</td>\n",
       "      <td>[{'alias': 'mediterranean', 'title': 'Mediterr...</td>\n",
       "      <td>4.2</td>\n",
       "      <td>['delivery', 'restaurant_reservation']</td>\n",
       "      <td>...</td>\n",
       "      <td>-80.188986</td>\n",
       "      <td>1155 Brickell Bay Dr</td>\n",
       "      <td>Ste 101</td>\n",
       "      <td>NaN</td>\n",
       "      <td>Miami</td>\n",
       "      <td>33131.0</td>\n",
       "      <td>US</td>\n",
       "      <td>FL</td>\n",
       "      <td>['1155 Brickell Bay Dr', 'Ste 101', 'Miami, FL...</td>\n",
       "      <td>$$</td>\n",
       "    </tr>\n",
       "    <tr>\n",
       "      <th>2</th>\n",
       "      <td>UXHxLN3DcDGI57uDIfCuJA</td>\n",
       "      <td>olds-havana-cuban-bar-and-cocina-miami</td>\n",
       "      <td>Old's Havana Cuban Bar &amp; Cocina</td>\n",
       "      <td>https://s3-media0.fl.yelpcdn.com/bphoto/OyMD-x...</td>\n",
       "      <td>False</td>\n",
       "      <td>https://www.yelp.com/biz/olds-havana-cuban-bar...</td>\n",
       "      <td>2994</td>\n",
       "      <td>[{'alias': 'cuban', 'title': 'Cuban'}, {'alias...</td>\n",
       "      <td>4.4</td>\n",
       "      <td>['restaurant_reservation', 'pickup']</td>\n",
       "      <td>...</td>\n",
       "      <td>-80.219238</td>\n",
       "      <td>1442 SW 8th St</td>\n",
       "      <td>NaN</td>\n",
       "      <td>NaN</td>\n",
       "      <td>Miami</td>\n",
       "      <td>33135.0</td>\n",
       "      <td>US</td>\n",
       "      <td>FL</td>\n",
       "      <td>['1442 SW 8th St', 'Miami, FL 33135']</td>\n",
       "      <td>$$</td>\n",
       "    </tr>\n",
       "    <tr>\n",
       "      <th>3</th>\n",
       "      <td>oxtMfBGmVNE18pFVuw7lFg</td>\n",
       "      <td>fratellino-coral-gables-2</td>\n",
       "      <td>Fratellino</td>\n",
       "      <td>https://s3-media0.fl.yelpcdn.com/bphoto/OPS9ib...</td>\n",
       "      <td>False</td>\n",
       "      <td>https://www.yelp.com/biz/fratellino-coral-gabl...</td>\n",
       "      <td>1811</td>\n",
       "      <td>[{'alias': 'italian', 'title': 'Italian'}]</td>\n",
       "      <td>4.8</td>\n",
       "      <td>['delivery', 'pickup']</td>\n",
       "      <td>...</td>\n",
       "      <td>-80.260110</td>\n",
       "      <td>264 Miracle Mile</td>\n",
       "      <td>NaN</td>\n",
       "      <td>NaN</td>\n",
       "      <td>Coral Gables</td>\n",
       "      <td>33134.0</td>\n",
       "      <td>US</td>\n",
       "      <td>FL</td>\n",
       "      <td>['264 Miracle Mile', 'Coral Gables, FL 33134']</td>\n",
       "      <td>$$$</td>\n",
       "    </tr>\n",
       "    <tr>\n",
       "      <th>4</th>\n",
       "      <td>WqIBKxRUPXH3NqTViAHLxQ</td>\n",
       "      <td>bayshore-club-bar-and-grill-miami</td>\n",
       "      <td>Bayshore Club Bar &amp; Grill</td>\n",
       "      <td>https://s3-media0.fl.yelpcdn.com/bphoto/B7tTbJ...</td>\n",
       "      <td>False</td>\n",
       "      <td>https://www.yelp.com/biz/bayshore-club-bar-and...</td>\n",
       "      <td>945</td>\n",
       "      <td>[{'alias': 'seafood', 'title': 'Seafood'}, {'a...</td>\n",
       "      <td>4.3</td>\n",
       "      <td>[]</td>\n",
       "      <td>...</td>\n",
       "      <td>-80.234162</td>\n",
       "      <td>3391 Pan American Dr</td>\n",
       "      <td>NaN</td>\n",
       "      <td>NaN</td>\n",
       "      <td>Miami</td>\n",
       "      <td>33133.0</td>\n",
       "      <td>US</td>\n",
       "      <td>FL</td>\n",
       "      <td>['3391 Pan American Dr', 'Miami, FL 33133']</td>\n",
       "      <td>$$$</td>\n",
       "    </tr>\n",
       "  </tbody>\n",
       "</table>\n",
       "<p>5 rows × 24 columns</p>\n",
       "</div>"
      ],
      "text/plain": [
       "                       id                                   alias  \\\n",
       "0  K3ukx2e11xTRtYBU01dmrA                       salty-flame-miami   \n",
       "1  ix8ifP1jQM9ektdVAs19sQ                 crazy-about-you-miami-3   \n",
       "2  UXHxLN3DcDGI57uDIfCuJA  olds-havana-cuban-bar-and-cocina-miami   \n",
       "3  oxtMfBGmVNE18pFVuw7lFg               fratellino-coral-gables-2   \n",
       "4  WqIBKxRUPXH3NqTViAHLxQ       bayshore-club-bar-and-grill-miami   \n",
       "\n",
       "                              name  \\\n",
       "0                      Salty Flame   \n",
       "1                  Crazy About You   \n",
       "2  Old's Havana Cuban Bar & Cocina   \n",
       "3                       Fratellino   \n",
       "4        Bayshore Club Bar & Grill   \n",
       "\n",
       "                                           image_url  is_closed  \\\n",
       "0  https://s3-media0.fl.yelpcdn.com/bphoto/_6wShT...      False   \n",
       "1  https://s3-media0.fl.yelpcdn.com/bphoto/vvQBoP...      False   \n",
       "2  https://s3-media0.fl.yelpcdn.com/bphoto/OyMD-x...      False   \n",
       "3  https://s3-media0.fl.yelpcdn.com/bphoto/OPS9ib...      False   \n",
       "4  https://s3-media0.fl.yelpcdn.com/bphoto/B7tTbJ...      False   \n",
       "\n",
       "                                                 url  review_count  \\\n",
       "0  https://www.yelp.com/biz/salty-flame-miami?adj...           190   \n",
       "1  https://www.yelp.com/biz/crazy-about-you-miami...          2784   \n",
       "2  https://www.yelp.com/biz/olds-havana-cuban-bar...          2994   \n",
       "3  https://www.yelp.com/biz/fratellino-coral-gabl...          1811   \n",
       "4  https://www.yelp.com/biz/bayshore-club-bar-and...           945   \n",
       "\n",
       "                                          categories  rating  \\\n",
       "0  [{'alias': 'asianfusion', 'title': 'Asian Fusi...     4.4   \n",
       "1  [{'alias': 'mediterranean', 'title': 'Mediterr...     4.2   \n",
       "2  [{'alias': 'cuban', 'title': 'Cuban'}, {'alias...     4.4   \n",
       "3         [{'alias': 'italian', 'title': 'Italian'}]     4.8   \n",
       "4  [{'alias': 'seafood', 'title': 'Seafood'}, {'a...     4.3   \n",
       "\n",
       "                             transactions  ...  coordinates.longitude  \\\n",
       "0                  ['delivery', 'pickup']  ...             -80.192670   \n",
       "1  ['delivery', 'restaurant_reservation']  ...             -80.188986   \n",
       "2    ['restaurant_reservation', 'pickup']  ...             -80.219238   \n",
       "3                  ['delivery', 'pickup']  ...             -80.260110   \n",
       "4                                      []  ...             -80.234162   \n",
       "\n",
       "      location.address1  location.address2  location.address3  location.city  \\\n",
       "0     1414 Brickell Ave                NaN                NaN          Miami   \n",
       "1  1155 Brickell Bay Dr            Ste 101                NaN          Miami   \n",
       "2        1442 SW 8th St                NaN                NaN          Miami   \n",
       "3      264 Miracle Mile                NaN                NaN   Coral Gables   \n",
       "4  3391 Pan American Dr                NaN                NaN          Miami   \n",
       "\n",
       "  location.zip_code location.country location.state  \\\n",
       "0           33131.0               US             FL   \n",
       "1           33131.0               US             FL   \n",
       "2           33135.0               US             FL   \n",
       "3           33134.0               US             FL   \n",
       "4           33133.0               US             FL   \n",
       "\n",
       "                            location.display_address  price  \n",
       "0           ['1414 Brickell Ave', 'Miami, FL 33131']    NaN  \n",
       "1  ['1155 Brickell Bay Dr', 'Ste 101', 'Miami, FL...     $$  \n",
       "2              ['1442 SW 8th St', 'Miami, FL 33135']     $$  \n",
       "3     ['264 Miracle Mile', 'Coral Gables, FL 33134']    $$$  \n",
       "4        ['3391 Pan American Dr', 'Miami, FL 33133']    $$$  \n",
       "\n",
       "[5 rows x 24 columns]"
      ]
     },
     "metadata": {},
     "output_type": "display_data"
    }
   ],
   "source": [
    "df_res.head()"
   ]
  },
  {
   "cell_type": "code",
   "execution_count": null,
   "id": "5ec5dcfd",
   "metadata": {},
   "outputs": [
    {
     "name": "stdout",
     "output_type": "stream",
     "text": [
      "<class 'pandas.core.frame.DataFrame'>\n",
      "RangeIndex: 200 entries, 0 to 199\n",
      "Data columns (total 24 columns):\n",
      " #   Column                    Non-Null Count  Dtype  \n",
      "---  ------                    --------------  -----  \n",
      " 0   id                        200 non-null    object \n",
      " 1   alias                     200 non-null    object \n",
      " 2   name                      200 non-null    object \n",
      " 3   image_url                 200 non-null    object \n",
      " 4   is_closed                 200 non-null    bool   \n",
      " 5   url                       200 non-null    object \n",
      " 6   review_count              200 non-null    int64  \n",
      " 7   categories                200 non-null    object \n",
      " 8   rating                    200 non-null    float64\n",
      " 9   transactions              200 non-null    object \n",
      " 10  phone                     183 non-null    float64\n",
      " 11  display_phone             183 non-null    object \n",
      " 12  distance                  200 non-null    float64\n",
      " 13  coordinates.latitude      200 non-null    float64\n",
      " 14  coordinates.longitude     200 non-null    float64\n",
      " 15  location.address1         200 non-null    object \n",
      " 16  location.address2         27 non-null     object \n",
      " 17  location.address3         4 non-null      object \n",
      " 18  location.city             200 non-null    object \n",
      " 19  location.zip_code         199 non-null    float64\n",
      " 20  location.country          200 non-null    object \n",
      " 21  location.state            200 non-null    object \n",
      " 22  location.display_address  200 non-null    object \n",
      " 23  price                     134 non-null    object \n",
      "dtypes: bool(1), float64(6), int64(1), object(16)\n",
      "memory usage: 36.3+ KB\n"
     ]
    }
   ],
   "source": [
    "df_res.info()"
   ]
  },
  {
   "cell_type": "markdown",
   "id": "18b20429",
   "metadata": {},
   "source": [
    "### Descripción de los datos (API Yelp - restaurantes):\n",
    "\n",
    "**Variables de identificación (no relevantes para análisis descriptivo):**\n",
    "\n",
    "- id: Identificador único del negocio.\n",
    "\n",
    "- alias: Alias del negocio.\n",
    "\n",
    "- name: Nombre comercial.\n",
    "\n",
    "- url: Link a la página del negocio en Yelp.\n",
    "\n",
    "- image_url: URL de la foto principal del restaurante.\n",
    "\n",
    "- phone: Número de teléfono en formato numérico (a veces vacío).\n",
    "\n",
    "- display_phone: Teléfono.\n",
    "\n",
    "**Variables de estado/actividad:**\n",
    "\n",
    "- is_closed: Indica si el negocio está cerrado permanentemente. En este dataset son todos False.\n",
    "\n",
    "- transactions: Lista de tipos de transacciones (ej. delivery, pickup).\n",
    "\n",
    "**Variables de reseñas y calificaciones:**\n",
    "\n",
    "- review_count: Número de reseñas registradas en Yelp.\n",
    "\n",
    "- rating: Rating promedio (1 a 5 estrellas).\n",
    "\n",
    "- price: Rango de precio estimado ($ a $$$$).\n",
    "\n",
    "**Variables de localización:**\n",
    "\n",
    "- coordinates.latitude: Latitud geográfica.\n",
    "- coordinates.longitude: Longitud geográfica.\n",
    "- location.address1: Dirección principal.\n",
    "-location.address2: Dirección secundaria (a veces nula).\n",
    "-location.address3: Dirección terciaria (casi siempre vacía).\n",
    "-location.city: Ciudad donde se ubica el restaurante.\n",
    "-location.state: Estado o región. (En este dataset son todas Miami)\n",
    "-location.zip_code: Código postal.\n",
    "-location.country: País.\n",
    "-location.display_address: Dirección en formato de texto amigable.\n",
    "\n",
    "**Variables de categorías y distancia:**\n",
    "\n",
    "- categories: Lista de categorías asignadas al restaurante (ej. Italian, Pizza, Coffee & Tea).\n",
    "\n",
    "- distance: Distancia en metros desde la ubicación usada en la búsqueda."
   ]
  },
  {
   "cell_type": "code",
   "execution_count": null,
   "id": "8e747aa7",
   "metadata": {},
   "outputs": [
    {
     "data": {
      "application/vnd.microsoft.datawrangler.viewer.v0+json": {
       "columns": [
        {
         "name": "index",
         "rawType": "object",
         "type": "string"
        },
        {
         "name": "review_count",
         "rawType": "float64",
         "type": "float"
        },
        {
         "name": "rating",
         "rawType": "float64",
         "type": "float"
        },
        {
         "name": "phone",
         "rawType": "float64",
         "type": "float"
        },
        {
         "name": "distance",
         "rawType": "float64",
         "type": "float"
        },
        {
         "name": "coordinates.latitude",
         "rawType": "float64",
         "type": "float"
        },
        {
         "name": "coordinates.longitude",
         "rawType": "float64",
         "type": "float"
        },
        {
         "name": "location.zip_code",
         "rawType": "float64",
         "type": "float"
        }
       ],
       "ref": "a0d7e349-e5a7-4531-871c-99fa6208035d",
       "rows": [
        [
         "count",
         "200.0",
         "200.0",
         "183.0",
         "200.0",
         "200.0",
         "200.0",
         "199.0"
        ],
        [
         "mean",
         "508.395",
         "4.3165",
         "14870154400.978142",
         "6095.385653289305",
         "25.766741695375973",
         "-80.2516452799249",
         "33136.62814070352"
        ],
        [
         "std",
         "840.2520792945376",
         "0.465792403130483",
         "2365161483.081745",
         "3066.864266121145",
         "0.02847095026830409",
         "0.04567194651464898",
         "15.15050461073496"
        ],
        [
         "min",
         "0.0",
         "0.0",
         "12066960674.0",
         "132.20277030219702",
         "25.687992898443856",
         "-80.39359629851486",
         "33010.0"
        ],
        [
         "25%",
         "71.5",
         "4.1",
         "13054523451.0",
         "3185.533576863724",
         "25.74984571115148",
         "-80.27994923437502",
         "33131.0"
        ],
        [
         "50%",
         "209.5",
         "4.4",
         "13056877774.0",
         "5519.20345368651",
         "25.765795357769747",
         "-80.25678636831749",
         "33134.0"
        ],
        [
         "75%",
         "568.75",
         "4.5",
         "17864830798.5",
         "9420.506463516109",
         "25.781620312118502",
         "-80.2112345",
         "33142.0"
        ],
        [
         "max",
         "6884.0",
         "5.0",
         "19549911140.0",
         "13539.614717106642",
         "25.84289972808821",
         "-80.1757024994751",
         "33183.0"
        ]
       ],
       "shape": {
        "columns": 7,
        "rows": 8
       }
      },
      "text/html": [
       "<div>\n",
       "<style scoped>\n",
       "    .dataframe tbody tr th:only-of-type {\n",
       "        vertical-align: middle;\n",
       "    }\n",
       "\n",
       "    .dataframe tbody tr th {\n",
       "        vertical-align: top;\n",
       "    }\n",
       "\n",
       "    .dataframe thead th {\n",
       "        text-align: right;\n",
       "    }\n",
       "</style>\n",
       "<table border=\"1\" class=\"dataframe\">\n",
       "  <thead>\n",
       "    <tr style=\"text-align: right;\">\n",
       "      <th></th>\n",
       "      <th>review_count</th>\n",
       "      <th>rating</th>\n",
       "      <th>phone</th>\n",
       "      <th>distance</th>\n",
       "      <th>coordinates.latitude</th>\n",
       "      <th>coordinates.longitude</th>\n",
       "      <th>location.zip_code</th>\n",
       "    </tr>\n",
       "  </thead>\n",
       "  <tbody>\n",
       "    <tr>\n",
       "      <th>count</th>\n",
       "      <td>200.000000</td>\n",
       "      <td>200.000000</td>\n",
       "      <td>1.830000e+02</td>\n",
       "      <td>200.000000</td>\n",
       "      <td>200.000000</td>\n",
       "      <td>200.000000</td>\n",
       "      <td>199.000000</td>\n",
       "    </tr>\n",
       "    <tr>\n",
       "      <th>mean</th>\n",
       "      <td>508.395000</td>\n",
       "      <td>4.316500</td>\n",
       "      <td>1.487015e+10</td>\n",
       "      <td>6095.385653</td>\n",
       "      <td>25.766742</td>\n",
       "      <td>-80.251645</td>\n",
       "      <td>33136.628141</td>\n",
       "    </tr>\n",
       "    <tr>\n",
       "      <th>std</th>\n",
       "      <td>840.252079</td>\n",
       "      <td>0.465792</td>\n",
       "      <td>2.365161e+09</td>\n",
       "      <td>3066.864266</td>\n",
       "      <td>0.028471</td>\n",
       "      <td>0.045672</td>\n",
       "      <td>15.150505</td>\n",
       "    </tr>\n",
       "    <tr>\n",
       "      <th>min</th>\n",
       "      <td>0.000000</td>\n",
       "      <td>0.000000</td>\n",
       "      <td>1.206696e+10</td>\n",
       "      <td>132.202770</td>\n",
       "      <td>25.687993</td>\n",
       "      <td>-80.393596</td>\n",
       "      <td>33010.000000</td>\n",
       "    </tr>\n",
       "    <tr>\n",
       "      <th>25%</th>\n",
       "      <td>71.500000</td>\n",
       "      <td>4.100000</td>\n",
       "      <td>1.305452e+10</td>\n",
       "      <td>3185.533577</td>\n",
       "      <td>25.749846</td>\n",
       "      <td>-80.279949</td>\n",
       "      <td>33131.000000</td>\n",
       "    </tr>\n",
       "    <tr>\n",
       "      <th>50%</th>\n",
       "      <td>209.500000</td>\n",
       "      <td>4.400000</td>\n",
       "      <td>1.305688e+10</td>\n",
       "      <td>5519.203454</td>\n",
       "      <td>25.765795</td>\n",
       "      <td>-80.256786</td>\n",
       "      <td>33134.000000</td>\n",
       "    </tr>\n",
       "    <tr>\n",
       "      <th>75%</th>\n",
       "      <td>568.750000</td>\n",
       "      <td>4.500000</td>\n",
       "      <td>1.786483e+10</td>\n",
       "      <td>9420.506464</td>\n",
       "      <td>25.781620</td>\n",
       "      <td>-80.211235</td>\n",
       "      <td>33142.000000</td>\n",
       "    </tr>\n",
       "    <tr>\n",
       "      <th>max</th>\n",
       "      <td>6884.000000</td>\n",
       "      <td>5.000000</td>\n",
       "      <td>1.954991e+10</td>\n",
       "      <td>13539.614717</td>\n",
       "      <td>25.842900</td>\n",
       "      <td>-80.175702</td>\n",
       "      <td>33183.000000</td>\n",
       "    </tr>\n",
       "  </tbody>\n",
       "</table>\n",
       "</div>"
      ],
      "text/plain": [
       "       review_count      rating         phone      distance  \\\n",
       "count    200.000000  200.000000  1.830000e+02    200.000000   \n",
       "mean     508.395000    4.316500  1.487015e+10   6095.385653   \n",
       "std      840.252079    0.465792  2.365161e+09   3066.864266   \n",
       "min        0.000000    0.000000  1.206696e+10    132.202770   \n",
       "25%       71.500000    4.100000  1.305452e+10   3185.533577   \n",
       "50%      209.500000    4.400000  1.305688e+10   5519.203454   \n",
       "75%      568.750000    4.500000  1.786483e+10   9420.506464   \n",
       "max     6884.000000    5.000000  1.954991e+10  13539.614717   \n",
       "\n",
       "       coordinates.latitude  coordinates.longitude  location.zip_code  \n",
       "count            200.000000             200.000000         199.000000  \n",
       "mean              25.766742             -80.251645       33136.628141  \n",
       "std                0.028471               0.045672          15.150505  \n",
       "min               25.687993             -80.393596       33010.000000  \n",
       "25%               25.749846             -80.279949       33131.000000  \n",
       "50%               25.765795             -80.256786       33134.000000  \n",
       "75%               25.781620             -80.211235       33142.000000  \n",
       "max               25.842900             -80.175702       33183.000000  "
      ]
     },
     "metadata": {},
     "output_type": "display_data"
    }
   ],
   "source": [
    "# Descripcion numericas\n",
    "df_res.describe()"
   ]
  },
  {
   "cell_type": "code",
   "execution_count": null,
   "id": "86a77d0c",
   "metadata": {},
   "outputs": [
    {
     "data": {
      "application/vnd.microsoft.datawrangler.viewer.v0+json": {
       "columns": [
        {
         "name": "index",
         "rawType": "object",
         "type": "string"
        },
        {
         "name": "id",
         "rawType": "object",
         "type": "unknown"
        },
        {
         "name": "alias",
         "rawType": "object",
         "type": "unknown"
        },
        {
         "name": "name",
         "rawType": "object",
         "type": "unknown"
        },
        {
         "name": "image_url",
         "rawType": "object",
         "type": "unknown"
        },
        {
         "name": "is_closed",
         "rawType": "object",
         "type": "unknown"
        },
        {
         "name": "url",
         "rawType": "object",
         "type": "unknown"
        },
        {
         "name": "categories",
         "rawType": "object",
         "type": "unknown"
        },
        {
         "name": "transactions",
         "rawType": "object",
         "type": "unknown"
        },
        {
         "name": "display_phone",
         "rawType": "object",
         "type": "unknown"
        },
        {
         "name": "location.address1",
         "rawType": "object",
         "type": "unknown"
        },
        {
         "name": "location.address2",
         "rawType": "object",
         "type": "unknown"
        },
        {
         "name": "location.address3",
         "rawType": "object",
         "type": "unknown"
        },
        {
         "name": "location.city",
         "rawType": "object",
         "type": "unknown"
        },
        {
         "name": "location.country",
         "rawType": "object",
         "type": "unknown"
        },
        {
         "name": "location.state",
         "rawType": "object",
         "type": "unknown"
        },
        {
         "name": "location.display_address",
         "rawType": "object",
         "type": "unknown"
        },
        {
         "name": "price",
         "rawType": "object",
         "type": "unknown"
        }
       ],
       "ref": "74eca446-7f1a-4263-8cd6-f1bb6df93083",
       "rows": [
        [
         "count",
         "200",
         "200",
         "200",
         "200",
         "200",
         "200",
         "200",
         "200",
         "183",
         "200",
         "27",
         "4",
         "200",
         "200",
         "200",
         "200",
         "134"
        ],
        [
         "unique",
         "200",
         "200",
         "199",
         "200",
         "1",
         "200",
         "171",
         "12",
         "183",
         "195",
         "27",
         "4",
         "10",
         "1",
         "1",
         "199",
         "4"
        ],
        [
         "top",
         "K3ukx2e11xTRtYBU01dmrA",
         "salty-flame-miami",
         "First Watch",
         "https://s3-media0.fl.yelpcdn.com/bphoto/_6wShTvzfucB5dxFZv4Mpg/o.jpg",
         "False",
         "https://www.yelp.com/biz/salty-flame-miami?adjust_creative=GWOCZh9-BmZxtdsAjr7Gug&utm_campaign=yelp_api_v3&utm_medium=api_v3_business_search&utm_source=GWOCZh9-BmZxtdsAjr7Gug",
         "[{'alias': 'italian', 'title': 'Italian'}]",
         "[]",
         "(305) 563-8972",
         "2600 NW 87th Ave",
         "Ste 101",
         "Coral Gables Golf & Country Club",
         "Miami",
         "US",
         "FL",
         "['3555 SW 8th St', 'Miami, FL 33135']",
         "$$"
        ],
        [
         "freq",
         "1",
         "1",
         "2",
         "1",
         "200",
         "1",
         "7",
         "70",
         "1",
         "2",
         "1",
         "1",
         "147",
         "200",
         "200",
         "2",
         "92"
        ]
       ],
       "shape": {
        "columns": 17,
        "rows": 4
       }
      },
      "text/html": [
       "<div>\n",
       "<style scoped>\n",
       "    .dataframe tbody tr th:only-of-type {\n",
       "        vertical-align: middle;\n",
       "    }\n",
       "\n",
       "    .dataframe tbody tr th {\n",
       "        vertical-align: top;\n",
       "    }\n",
       "\n",
       "    .dataframe thead th {\n",
       "        text-align: right;\n",
       "    }\n",
       "</style>\n",
       "<table border=\"1\" class=\"dataframe\">\n",
       "  <thead>\n",
       "    <tr style=\"text-align: right;\">\n",
       "      <th></th>\n",
       "      <th>id</th>\n",
       "      <th>alias</th>\n",
       "      <th>name</th>\n",
       "      <th>image_url</th>\n",
       "      <th>is_closed</th>\n",
       "      <th>url</th>\n",
       "      <th>categories</th>\n",
       "      <th>transactions</th>\n",
       "      <th>display_phone</th>\n",
       "      <th>location.address1</th>\n",
       "      <th>location.address2</th>\n",
       "      <th>location.address3</th>\n",
       "      <th>location.city</th>\n",
       "      <th>location.country</th>\n",
       "      <th>location.state</th>\n",
       "      <th>location.display_address</th>\n",
       "      <th>price</th>\n",
       "    </tr>\n",
       "  </thead>\n",
       "  <tbody>\n",
       "    <tr>\n",
       "      <th>count</th>\n",
       "      <td>200</td>\n",
       "      <td>200</td>\n",
       "      <td>200</td>\n",
       "      <td>200</td>\n",
       "      <td>200</td>\n",
       "      <td>200</td>\n",
       "      <td>200</td>\n",
       "      <td>200</td>\n",
       "      <td>183</td>\n",
       "      <td>200</td>\n",
       "      <td>27</td>\n",
       "      <td>4</td>\n",
       "      <td>200</td>\n",
       "      <td>200</td>\n",
       "      <td>200</td>\n",
       "      <td>200</td>\n",
       "      <td>134</td>\n",
       "    </tr>\n",
       "    <tr>\n",
       "      <th>unique</th>\n",
       "      <td>200</td>\n",
       "      <td>200</td>\n",
       "      <td>199</td>\n",
       "      <td>200</td>\n",
       "      <td>1</td>\n",
       "      <td>200</td>\n",
       "      <td>171</td>\n",
       "      <td>12</td>\n",
       "      <td>183</td>\n",
       "      <td>195</td>\n",
       "      <td>27</td>\n",
       "      <td>4</td>\n",
       "      <td>10</td>\n",
       "      <td>1</td>\n",
       "      <td>1</td>\n",
       "      <td>199</td>\n",
       "      <td>4</td>\n",
       "    </tr>\n",
       "    <tr>\n",
       "      <th>top</th>\n",
       "      <td>K3ukx2e11xTRtYBU01dmrA</td>\n",
       "      <td>salty-flame-miami</td>\n",
       "      <td>First Watch</td>\n",
       "      <td>https://s3-media0.fl.yelpcdn.com/bphoto/_6wShT...</td>\n",
       "      <td>False</td>\n",
       "      <td>https://www.yelp.com/biz/salty-flame-miami?adj...</td>\n",
       "      <td>[{'alias': 'italian', 'title': 'Italian'}]</td>\n",
       "      <td>[]</td>\n",
       "      <td>(305) 563-8972</td>\n",
       "      <td>2600 NW 87th Ave</td>\n",
       "      <td>Ste 101</td>\n",
       "      <td>Coral Gables Golf &amp; Country Club</td>\n",
       "      <td>Miami</td>\n",
       "      <td>US</td>\n",
       "      <td>FL</td>\n",
       "      <td>['3555 SW 8th St', 'Miami, FL 33135']</td>\n",
       "      <td>$$</td>\n",
       "    </tr>\n",
       "    <tr>\n",
       "      <th>freq</th>\n",
       "      <td>1</td>\n",
       "      <td>1</td>\n",
       "      <td>2</td>\n",
       "      <td>1</td>\n",
       "      <td>200</td>\n",
       "      <td>1</td>\n",
       "      <td>7</td>\n",
       "      <td>70</td>\n",
       "      <td>1</td>\n",
       "      <td>2</td>\n",
       "      <td>1</td>\n",
       "      <td>1</td>\n",
       "      <td>147</td>\n",
       "      <td>200</td>\n",
       "      <td>200</td>\n",
       "      <td>2</td>\n",
       "      <td>92</td>\n",
       "    </tr>\n",
       "  </tbody>\n",
       "</table>\n",
       "</div>"
      ],
      "text/plain": [
       "                            id              alias         name  \\\n",
       "count                      200                200          200   \n",
       "unique                     200                200          199   \n",
       "top     K3ukx2e11xTRtYBU01dmrA  salty-flame-miami  First Watch   \n",
       "freq                         1                  1            2   \n",
       "\n",
       "                                                image_url is_closed  \\\n",
       "count                                                 200       200   \n",
       "unique                                                200         1   \n",
       "top     https://s3-media0.fl.yelpcdn.com/bphoto/_6wShT...     False   \n",
       "freq                                                    1       200   \n",
       "\n",
       "                                                      url  \\\n",
       "count                                                 200   \n",
       "unique                                                200   \n",
       "top     https://www.yelp.com/biz/salty-flame-miami?adj...   \n",
       "freq                                                    1   \n",
       "\n",
       "                                        categories transactions  \\\n",
       "count                                          200          200   \n",
       "unique                                         171           12   \n",
       "top     [{'alias': 'italian', 'title': 'Italian'}]           []   \n",
       "freq                                             7           70   \n",
       "\n",
       "         display_phone location.address1 location.address2  \\\n",
       "count              183               200                27   \n",
       "unique             183               195                27   \n",
       "top     (305) 563-8972  2600 NW 87th Ave           Ste 101   \n",
       "freq                 1                 2                 1   \n",
       "\n",
       "                       location.address3 location.city location.country  \\\n",
       "count                                  4           200              200   \n",
       "unique                                 4            10                1   \n",
       "top     Coral Gables Golf & Country Club         Miami               US   \n",
       "freq                                   1           147              200   \n",
       "\n",
       "       location.state               location.display_address price  \n",
       "count             200                                    200   134  \n",
       "unique              1                                    199     4  \n",
       "top                FL  ['3555 SW 8th St', 'Miami, FL 33135']    $$  \n",
       "freq              200                                      2    92  "
      ]
     },
     "metadata": {},
     "output_type": "display_data"
    }
   ],
   "source": [
    "# Descripcion no numericas\n",
    "df_res.describe(exclude= 'number')"
   ]
  },
  {
   "cell_type": "markdown",
   "id": "c83733e1",
   "metadata": {},
   "source": [
    "Las variables relevantes para el análisis serán reseñas, calificaciones, precios, categoría.  También es interesante analizar lo relativo a transactions y coordenadas geográficas.\n",
    "\n"
   ]
  },
  {
   "cell_type": "markdown",
   "id": "a41cf797",
   "metadata": {},
   "source": [
    "### Identificación de duplicados"
   ]
  },
  {
   "cell_type": "code",
   "execution_count": null,
   "id": "efd97076",
   "metadata": {},
   "outputs": [
    {
     "name": "stdout",
     "output_type": "stream",
     "text": [
      "Cantidad de id duplicados: 0\n",
      "Cantidad de id con valores únicos: 200\n",
      "Cantidad de alias duplicados: 0\n",
      "Cantidad de alias con valores únicos: 200\n",
      "Cantidad de nombre restaurant duplicados: 1\n",
      "Cantidad de nombre restaurant con valores únicos: 199\n"
     ]
    }
   ],
   "source": [
    "#identificar id duplicados\n",
    "\n",
    "print('Cantidad de id duplicados:', df_res.duplicated(['id']).sum())\n",
    "print('Cantidad de id con valores únicos:', df_res['id'].nunique())\n",
    "\n",
    "print('Cantidad de alias duplicados:', df_res.duplicated(['alias']).sum())\n",
    "print('Cantidad de alias con valores únicos:', df_res['alias'].nunique())\n",
    "\n",
    "print('Cantidad de nombre restaurant duplicados:', df_res.duplicated(['name']).sum())\n",
    "print('Cantidad de nombre restaurant con valores únicos:', df_res['name'].nunique())"
   ]
  },
  {
   "cell_type": "code",
   "execution_count": null,
   "id": "0713fe39",
   "metadata": {},
   "outputs": [
    {
     "data": {
      "application/vnd.microsoft.datawrangler.viewer.v0+json": {
       "columns": [
        {
         "name": "index",
         "rawType": "int64",
         "type": "integer"
        },
        {
         "name": "id",
         "rawType": "object",
         "type": "string"
        },
        {
         "name": "alias",
         "rawType": "object",
         "type": "string"
        },
        {
         "name": "name",
         "rawType": "object",
         "type": "string"
        },
        {
         "name": "image_url",
         "rawType": "object",
         "type": "string"
        },
        {
         "name": "is_closed",
         "rawType": "bool",
         "type": "boolean"
        },
        {
         "name": "url",
         "rawType": "object",
         "type": "string"
        },
        {
         "name": "review_count",
         "rawType": "int64",
         "type": "integer"
        },
        {
         "name": "categories",
         "rawType": "object",
         "type": "string"
        },
        {
         "name": "rating",
         "rawType": "float64",
         "type": "float"
        },
        {
         "name": "transactions",
         "rawType": "object",
         "type": "string"
        },
        {
         "name": "phone",
         "rawType": "float64",
         "type": "float"
        },
        {
         "name": "display_phone",
         "rawType": "object",
         "type": "string"
        },
        {
         "name": "distance",
         "rawType": "float64",
         "type": "float"
        },
        {
         "name": "coordinates.latitude",
         "rawType": "float64",
         "type": "float"
        },
        {
         "name": "coordinates.longitude",
         "rawType": "float64",
         "type": "float"
        },
        {
         "name": "location.address1",
         "rawType": "object",
         "type": "string"
        },
        {
         "name": "location.address2",
         "rawType": "object",
         "type": "string"
        },
        {
         "name": "location.address3",
         "rawType": "object",
         "type": "unknown"
        },
        {
         "name": "location.city",
         "rawType": "object",
         "type": "string"
        },
        {
         "name": "location.zip_code",
         "rawType": "float64",
         "type": "float"
        },
        {
         "name": "location.country",
         "rawType": "object",
         "type": "string"
        },
        {
         "name": "location.state",
         "rawType": "object",
         "type": "string"
        },
        {
         "name": "location.display_address",
         "rawType": "object",
         "type": "string"
        },
        {
         "name": "price",
         "rawType": "object",
         "type": "string"
        }
       ],
       "ref": "261bfd94-12c3-4059-b510-49c713d0f57b",
       "rows": [
        [
         "127",
         "rOSY396xA0wV4AzgZ-MS0g",
         "first-watch-doral",
         "First Watch",
         "https://s3-media0.fl.yelpcdn.com/bphoto/pcDhGcnemXd3PWrJ6LnqdQ/o.jpg",
         "False",
         "https://www.yelp.com/biz/first-watch-doral?adjust_creative=GWOCZh9-BmZxtdsAjr7Gug&utm_campaign=yelp_api_v3&utm_medium=api_v3_business_search&utm_source=GWOCZh9-BmZxtdsAjr7Gug",
         "185",
         "[{'alias': 'breakfast_brunch', 'title': 'Breakfast & Brunch'}, {'alias': 'cafes', 'title': 'Cafes'}, {'alias': 'tradamerican', 'title': 'American'}]",
         "4.2",
         "[]",
         "17869265120.0",
         "(786) 926-5120",
         "7870.39847185378",
         "25.80853",
         "-80.33655",
         "3737 NW 87th Ave",
         "Ste 108",
         null,
         "Doral",
         "33166.0",
         "US",
         "FL",
         "['3737 NW 87th Ave', 'Ste 108', 'Doral, FL 33166']",
         "$$"
        ]
       ],
       "shape": {
        "columns": 24,
        "rows": 1
       }
      },
      "text/html": [
       "<div>\n",
       "<style scoped>\n",
       "    .dataframe tbody tr th:only-of-type {\n",
       "        vertical-align: middle;\n",
       "    }\n",
       "\n",
       "    .dataframe tbody tr th {\n",
       "        vertical-align: top;\n",
       "    }\n",
       "\n",
       "    .dataframe thead th {\n",
       "        text-align: right;\n",
       "    }\n",
       "</style>\n",
       "<table border=\"1\" class=\"dataframe\">\n",
       "  <thead>\n",
       "    <tr style=\"text-align: right;\">\n",
       "      <th></th>\n",
       "      <th>id</th>\n",
       "      <th>alias</th>\n",
       "      <th>name</th>\n",
       "      <th>image_url</th>\n",
       "      <th>is_closed</th>\n",
       "      <th>url</th>\n",
       "      <th>review_count</th>\n",
       "      <th>categories</th>\n",
       "      <th>rating</th>\n",
       "      <th>transactions</th>\n",
       "      <th>...</th>\n",
       "      <th>coordinates.longitude</th>\n",
       "      <th>location.address1</th>\n",
       "      <th>location.address2</th>\n",
       "      <th>location.address3</th>\n",
       "      <th>location.city</th>\n",
       "      <th>location.zip_code</th>\n",
       "      <th>location.country</th>\n",
       "      <th>location.state</th>\n",
       "      <th>location.display_address</th>\n",
       "      <th>price</th>\n",
       "    </tr>\n",
       "  </thead>\n",
       "  <tbody>\n",
       "    <tr>\n",
       "      <th>127</th>\n",
       "      <td>rOSY396xA0wV4AzgZ-MS0g</td>\n",
       "      <td>first-watch-doral</td>\n",
       "      <td>First Watch</td>\n",
       "      <td>https://s3-media0.fl.yelpcdn.com/bphoto/pcDhGc...</td>\n",
       "      <td>False</td>\n",
       "      <td>https://www.yelp.com/biz/first-watch-doral?adj...</td>\n",
       "      <td>185</td>\n",
       "      <td>[{'alias': 'breakfast_brunch', 'title': 'Break...</td>\n",
       "      <td>4.2</td>\n",
       "      <td>[]</td>\n",
       "      <td>...</td>\n",
       "      <td>-80.33655</td>\n",
       "      <td>3737 NW 87th Ave</td>\n",
       "      <td>Ste 108</td>\n",
       "      <td>NaN</td>\n",
       "      <td>Doral</td>\n",
       "      <td>33166.0</td>\n",
       "      <td>US</td>\n",
       "      <td>FL</td>\n",
       "      <td>['3737 NW 87th Ave', 'Ste 108', 'Doral, FL 331...</td>\n",
       "      <td>$$</td>\n",
       "    </tr>\n",
       "  </tbody>\n",
       "</table>\n",
       "<p>1 rows × 24 columns</p>\n",
       "</div>"
      ],
      "text/plain": [
       "                         id              alias         name  \\\n",
       "127  rOSY396xA0wV4AzgZ-MS0g  first-watch-doral  First Watch   \n",
       "\n",
       "                                             image_url  is_closed  \\\n",
       "127  https://s3-media0.fl.yelpcdn.com/bphoto/pcDhGc...      False   \n",
       "\n",
       "                                                   url  review_count  \\\n",
       "127  https://www.yelp.com/biz/first-watch-doral?adj...           185   \n",
       "\n",
       "                                            categories  rating transactions  \\\n",
       "127  [{'alias': 'breakfast_brunch', 'title': 'Break...     4.2           []   \n",
       "\n",
       "     ...  coordinates.longitude location.address1  location.address2  \\\n",
       "127  ...              -80.33655  3737 NW 87th Ave            Ste 108   \n",
       "\n",
       "     location.address3  location.city location.zip_code location.country  \\\n",
       "127                NaN          Doral           33166.0               US   \n",
       "\n",
       "    location.state                           location.display_address  price  \n",
       "127             FL  ['3737 NW 87th Ave', 'Ste 108', 'Doral, FL 331...     $$  \n",
       "\n",
       "[1 rows x 24 columns]"
      ]
     },
     "metadata": {},
     "output_type": "display_data"
    }
   ],
   "source": [
    "# Solo un duuplicado en nombre. No parece problemático, pero lo vemos:\n",
    "\n",
    "df_res[(df_res.duplicated(['name'])>0)]"
   ]
  },
  {
   "cell_type": "code",
   "execution_count": null,
   "id": "13bb2b20",
   "metadata": {},
   "outputs": [
    {
     "data": {
      "application/vnd.microsoft.datawrangler.viewer.v0+json": {
       "columns": [
        {
         "name": "index",
         "rawType": "int64",
         "type": "integer"
        },
        {
         "name": "id",
         "rawType": "object",
         "type": "string"
        },
        {
         "name": "alias",
         "rawType": "object",
         "type": "string"
        },
        {
         "name": "name",
         "rawType": "object",
         "type": "string"
        },
        {
         "name": "image_url",
         "rawType": "object",
         "type": "string"
        },
        {
         "name": "is_closed",
         "rawType": "bool",
         "type": "boolean"
        },
        {
         "name": "url",
         "rawType": "object",
         "type": "string"
        },
        {
         "name": "review_count",
         "rawType": "int64",
         "type": "integer"
        },
        {
         "name": "categories",
         "rawType": "object",
         "type": "string"
        },
        {
         "name": "rating",
         "rawType": "float64",
         "type": "float"
        },
        {
         "name": "transactions",
         "rawType": "object",
         "type": "string"
        },
        {
         "name": "phone",
         "rawType": "float64",
         "type": "float"
        },
        {
         "name": "display_phone",
         "rawType": "object",
         "type": "string"
        },
        {
         "name": "distance",
         "rawType": "float64",
         "type": "float"
        },
        {
         "name": "coordinates.latitude",
         "rawType": "float64",
         "type": "float"
        },
        {
         "name": "coordinates.longitude",
         "rawType": "float64",
         "type": "float"
        },
        {
         "name": "location.address1",
         "rawType": "object",
         "type": "string"
        },
        {
         "name": "location.address2",
         "rawType": "object",
         "type": "unknown"
        },
        {
         "name": "location.address3",
         "rawType": "object",
         "type": "unknown"
        },
        {
         "name": "location.city",
         "rawType": "object",
         "type": "string"
        },
        {
         "name": "location.zip_code",
         "rawType": "float64",
         "type": "float"
        },
        {
         "name": "location.country",
         "rawType": "object",
         "type": "string"
        },
        {
         "name": "location.state",
         "rawType": "object",
         "type": "string"
        },
        {
         "name": "location.display_address",
         "rawType": "object",
         "type": "string"
        },
        {
         "name": "price",
         "rawType": "object",
         "type": "string"
        }
       ],
       "ref": "c3ce97b2-d59c-4dd6-ab8e-558e5be3caf2",
       "rows": [
        [
         "7",
         "4GKmQ1rynV5RUSiaHHenWQ",
         "first-watch-miami-6",
         "First Watch",
         "https://s3-media0.fl.yelpcdn.com/bphoto/lPn0xhFAAMIgHtFGCp8TkQ/o.jpg",
         "False",
         "https://www.yelp.com/biz/first-watch-miami-6?adjust_creative=GWOCZh9-BmZxtdsAjr7Gug&utm_campaign=yelp_api_v3&utm_medium=api_v3_business_search&utm_source=GWOCZh9-BmZxtdsAjr7Gug",
         "499",
         "[{'alias': 'breakfast_brunch', 'title': 'Breakfast & Brunch'}, {'alias': 'cafes', 'title': 'Cafes'}, {'alias': 'tradamerican', 'title': 'American'}]",
         "3.9",
         "[]",
         "17866055050.0",
         "(786) 605-5050",
         "2844.225718190066",
         "25.77831",
         "-80.29053",
         "5799 NW 7th St",
         null,
         null,
         "Miami",
         "33125.0",
         "US",
         "FL",
         "['5799 NW 7th St', 'Miami, FL 33125']",
         "$$"
        ],
        [
         "127",
         "rOSY396xA0wV4AzgZ-MS0g",
         "first-watch-doral",
         "First Watch",
         "https://s3-media0.fl.yelpcdn.com/bphoto/pcDhGcnemXd3PWrJ6LnqdQ/o.jpg",
         "False",
         "https://www.yelp.com/biz/first-watch-doral?adjust_creative=GWOCZh9-BmZxtdsAjr7Gug&utm_campaign=yelp_api_v3&utm_medium=api_v3_business_search&utm_source=GWOCZh9-BmZxtdsAjr7Gug",
         "185",
         "[{'alias': 'breakfast_brunch', 'title': 'Breakfast & Brunch'}, {'alias': 'cafes', 'title': 'Cafes'}, {'alias': 'tradamerican', 'title': 'American'}]",
         "4.2",
         "[]",
         "17869265120.0",
         "(786) 926-5120",
         "7870.39847185378",
         "25.80853",
         "-80.33655",
         "3737 NW 87th Ave",
         "Ste 108",
         null,
         "Doral",
         "33166.0",
         "US",
         "FL",
         "['3737 NW 87th Ave', 'Ste 108', 'Doral, FL 33166']",
         "$$"
        ]
       ],
       "shape": {
        "columns": 24,
        "rows": 2
       }
      },
      "text/html": [
       "<div>\n",
       "<style scoped>\n",
       "    .dataframe tbody tr th:only-of-type {\n",
       "        vertical-align: middle;\n",
       "    }\n",
       "\n",
       "    .dataframe tbody tr th {\n",
       "        vertical-align: top;\n",
       "    }\n",
       "\n",
       "    .dataframe thead th {\n",
       "        text-align: right;\n",
       "    }\n",
       "</style>\n",
       "<table border=\"1\" class=\"dataframe\">\n",
       "  <thead>\n",
       "    <tr style=\"text-align: right;\">\n",
       "      <th></th>\n",
       "      <th>id</th>\n",
       "      <th>alias</th>\n",
       "      <th>name</th>\n",
       "      <th>image_url</th>\n",
       "      <th>is_closed</th>\n",
       "      <th>url</th>\n",
       "      <th>review_count</th>\n",
       "      <th>categories</th>\n",
       "      <th>rating</th>\n",
       "      <th>transactions</th>\n",
       "      <th>...</th>\n",
       "      <th>coordinates.longitude</th>\n",
       "      <th>location.address1</th>\n",
       "      <th>location.address2</th>\n",
       "      <th>location.address3</th>\n",
       "      <th>location.city</th>\n",
       "      <th>location.zip_code</th>\n",
       "      <th>location.country</th>\n",
       "      <th>location.state</th>\n",
       "      <th>location.display_address</th>\n",
       "      <th>price</th>\n",
       "    </tr>\n",
       "  </thead>\n",
       "  <tbody>\n",
       "    <tr>\n",
       "      <th>7</th>\n",
       "      <td>4GKmQ1rynV5RUSiaHHenWQ</td>\n",
       "      <td>first-watch-miami-6</td>\n",
       "      <td>First Watch</td>\n",
       "      <td>https://s3-media0.fl.yelpcdn.com/bphoto/lPn0xh...</td>\n",
       "      <td>False</td>\n",
       "      <td>https://www.yelp.com/biz/first-watch-miami-6?a...</td>\n",
       "      <td>499</td>\n",
       "      <td>[{'alias': 'breakfast_brunch', 'title': 'Break...</td>\n",
       "      <td>3.9</td>\n",
       "      <td>[]</td>\n",
       "      <td>...</td>\n",
       "      <td>-80.29053</td>\n",
       "      <td>5799 NW 7th St</td>\n",
       "      <td>NaN</td>\n",
       "      <td>NaN</td>\n",
       "      <td>Miami</td>\n",
       "      <td>33125.0</td>\n",
       "      <td>US</td>\n",
       "      <td>FL</td>\n",
       "      <td>['5799 NW 7th St', 'Miami, FL 33125']</td>\n",
       "      <td>$$</td>\n",
       "    </tr>\n",
       "    <tr>\n",
       "      <th>127</th>\n",
       "      <td>rOSY396xA0wV4AzgZ-MS0g</td>\n",
       "      <td>first-watch-doral</td>\n",
       "      <td>First Watch</td>\n",
       "      <td>https://s3-media0.fl.yelpcdn.com/bphoto/pcDhGc...</td>\n",
       "      <td>False</td>\n",
       "      <td>https://www.yelp.com/biz/first-watch-doral?adj...</td>\n",
       "      <td>185</td>\n",
       "      <td>[{'alias': 'breakfast_brunch', 'title': 'Break...</td>\n",
       "      <td>4.2</td>\n",
       "      <td>[]</td>\n",
       "      <td>...</td>\n",
       "      <td>-80.33655</td>\n",
       "      <td>3737 NW 87th Ave</td>\n",
       "      <td>Ste 108</td>\n",
       "      <td>NaN</td>\n",
       "      <td>Doral</td>\n",
       "      <td>33166.0</td>\n",
       "      <td>US</td>\n",
       "      <td>FL</td>\n",
       "      <td>['3737 NW 87th Ave', 'Ste 108', 'Doral, FL 331...</td>\n",
       "      <td>$$</td>\n",
       "    </tr>\n",
       "  </tbody>\n",
       "</table>\n",
       "<p>2 rows × 24 columns</p>\n",
       "</div>"
      ],
      "text/plain": [
       "                         id                alias         name  \\\n",
       "7    4GKmQ1rynV5RUSiaHHenWQ  first-watch-miami-6  First Watch   \n",
       "127  rOSY396xA0wV4AzgZ-MS0g    first-watch-doral  First Watch   \n",
       "\n",
       "                                             image_url  is_closed  \\\n",
       "7    https://s3-media0.fl.yelpcdn.com/bphoto/lPn0xh...      False   \n",
       "127  https://s3-media0.fl.yelpcdn.com/bphoto/pcDhGc...      False   \n",
       "\n",
       "                                                   url  review_count  \\\n",
       "7    https://www.yelp.com/biz/first-watch-miami-6?a...           499   \n",
       "127  https://www.yelp.com/biz/first-watch-doral?adj...           185   \n",
       "\n",
       "                                            categories  rating transactions  \\\n",
       "7    [{'alias': 'breakfast_brunch', 'title': 'Break...     3.9           []   \n",
       "127  [{'alias': 'breakfast_brunch', 'title': 'Break...     4.2           []   \n",
       "\n",
       "     ...  coordinates.longitude location.address1  location.address2  \\\n",
       "7    ...              -80.29053    5799 NW 7th St                NaN   \n",
       "127  ...              -80.33655  3737 NW 87th Ave            Ste 108   \n",
       "\n",
       "     location.address3  location.city location.zip_code location.country  \\\n",
       "7                  NaN          Miami           33125.0               US   \n",
       "127                NaN          Doral           33166.0               US   \n",
       "\n",
       "    location.state                           location.display_address  price  \n",
       "7               FL              ['5799 NW 7th St', 'Miami, FL 33125']     $$  \n",
       "127             FL  ['3737 NW 87th Ave', 'Ste 108', 'Doral, FL 331...     $$  \n",
       "\n",
       "[2 rows x 24 columns]"
      ]
     },
     "metadata": {},
     "output_type": "display_data"
    }
   ],
   "source": [
    "df_res[df_res['name'] == 'First Watch']"
   ]
  },
  {
   "cell_type": "markdown",
   "id": "9ba4116c",
   "metadata": {},
   "source": [
    "Vemos que el único caso que tiene el mismo nombre tiene otra ubicación, así que es correcto: No hay duplicados."
   ]
  },
  {
   "cell_type": "markdown",
   "id": "2ae499a5",
   "metadata": {},
   "source": [
    "### Calidad de los datos:\n",
    "\n",
    "Locación ciudad: Se verificó que las ciudades que no son Miami son municipios, barrios o suburbios cercanos, dentro del condado de Miami-Dade. Todas están dentro del área metropolitana de Miami.\n",
    "\n",
    "Ninguno de los restaurants está cerrado."
   ]
  },
  {
   "cell_type": "markdown",
   "id": "2aaa5016",
   "metadata": {},
   "source": [
    "### Valores nulos:\n",
    "\n",
    "Hay un tercio de valores perdidos en precio. Tendremos esto en cuenta para el análisis, pero no lo imputaremos. Parece no ser un campo obligatorio al hacer una reseña.\n",
    "\n",
    "No hay nulos en reviews ni rating, pero hay casos con 0."
   ]
  },
  {
   "cell_type": "code",
   "execution_count": null,
   "id": "2c184537",
   "metadata": {},
   "outputs": [
    {
     "data": {
      "application/vnd.microsoft.datawrangler.viewer.v0+json": {
       "columns": [
        {
         "name": "index",
         "rawType": "object",
         "type": "string"
        },
        {
         "name": "0",
         "rawType": "float64",
         "type": "float"
        }
       ],
       "ref": "2b454d9d-d44e-4f2e-8020-7ef8681df9a4",
       "rows": [
        [
         "id",
         "0.0"
        ],
        [
         "alias",
         "0.0"
        ],
        [
         "name",
         "0.0"
        ],
        [
         "image_url",
         "0.0"
        ],
        [
         "is_closed",
         "0.0"
        ],
        [
         "url",
         "0.0"
        ],
        [
         "review_count",
         "0.0"
        ],
        [
         "categories",
         "0.0"
        ],
        [
         "rating",
         "0.0"
        ],
        [
         "transactions",
         "0.0"
        ],
        [
         "phone",
         "8.5"
        ],
        [
         "display_phone",
         "8.5"
        ],
        [
         "distance",
         "0.0"
        ],
        [
         "coordinates.latitude",
         "0.0"
        ],
        [
         "coordinates.longitude",
         "0.0"
        ],
        [
         "location.address1",
         "0.0"
        ],
        [
         "location.address2",
         "86.5"
        ],
        [
         "location.address3",
         "98.0"
        ],
        [
         "location.city",
         "0.0"
        ],
        [
         "location.zip_code",
         "0.5"
        ],
        [
         "location.country",
         "0.0"
        ],
        [
         "location.state",
         "0.0"
        ],
        [
         "location.display_address",
         "0.0"
        ],
        [
         "price",
         "33.0"
        ]
       ],
       "shape": {
        "columns": 1,
        "rows": 24
       }
      },
      "text/plain": [
       "id                           0.0\n",
       "alias                        0.0\n",
       "name                         0.0\n",
       "image_url                    0.0\n",
       "is_closed                    0.0\n",
       "url                          0.0\n",
       "review_count                 0.0\n",
       "categories                   0.0\n",
       "rating                       0.0\n",
       "transactions                 0.0\n",
       "phone                        8.5\n",
       "display_phone                8.5\n",
       "distance                     0.0\n",
       "coordinates.latitude         0.0\n",
       "coordinates.longitude        0.0\n",
       "location.address1            0.0\n",
       "location.address2           86.5\n",
       "location.address3           98.0\n",
       "location.city                0.0\n",
       "location.zip_code            0.5\n",
       "location.country             0.0\n",
       "location.state               0.0\n",
       "location.display_address     0.0\n",
       "price                       33.0\n",
       "dtype: float64"
      ]
     },
     "metadata": {},
     "output_type": "display_data"
    }
   ],
   "source": [
    "# % valores nulos:\n",
    "df.isna().mean().round(4) * 100"
   ]
  },
  {
   "cell_type": "code",
   "execution_count": null,
   "id": "d3417431",
   "metadata": {},
   "outputs": [
    {
     "data": {
      "application/vnd.microsoft.datawrangler.viewer.v0+json": {
       "columns": [
        {
         "name": "price",
         "rawType": "object",
         "type": "string"
        },
        {
         "name": "count",
         "rawType": "int64",
         "type": "integer"
        }
       ],
       "ref": "77aa7af5-22d5-46c2-a983-883c0672d019",
       "rows": [
        [
         "$$",
         "92"
        ],
        [
         "$$$",
         "21"
        ],
        [
         "$",
         "14"
        ],
        [
         "$$$$",
         "7"
        ]
       ],
       "shape": {
        "columns": 1,
        "rows": 4
       }
      },
      "text/plain": [
       "price\n",
       "$$      92\n",
       "$$$     21\n",
       "$       14\n",
       "$$$$     7\n",
       "Name: count, dtype: int64"
      ]
     },
     "metadata": {},
     "output_type": "display_data"
    }
   ],
   "source": [
    "# Precio:\n",
    "\n",
    "conteo_valores = df_res['price'].value_counts()\n",
    "conteo_valores"
   ]
  },
  {
   "cell_type": "markdown",
   "id": "627a9dd4",
   "metadata": {},
   "source": [
    "### Tratamiento de valores nulos\n",
    "\n",
    "Vamos a excluir los casos de review 0, ya que no serían relevantes para el análisis. Pero primero vemos cuantos son"
   ]
  },
  {
   "cell_type": "code",
   "execution_count": null,
   "id": "e7344878",
   "metadata": {},
   "outputs": [
    {
     "data": {
      "text/plain": [
       "1"
      ]
     },
     "metadata": {},
     "output_type": "display_data"
    }
   ],
   "source": [
    "(df_res['review_count'] == 0).sum()\n"
   ]
  },
  {
   "cell_type": "code",
   "execution_count": null,
   "id": "4ab9328e",
   "metadata": {},
   "outputs": [],
   "source": [
    "#solo un caso: lo eliminamos:\n",
    "\n",
    "df_res = df_res[df_res['review_count'] != 0]"
   ]
  },
  {
   "cell_type": "markdown",
   "id": "53b684fb",
   "metadata": {},
   "source": [
    "## Creación de rating ajustado por reseñas: \n",
    "### Análisis previo apara elaboración de rating ponderado por cantidad de reseñas:\n",
    "1. Análisis de las variables relevantes: rating, reseñas y precio\n"
   ]
  },
  {
   "cell_type": "code",
   "execution_count": null,
   "id": "1337b2ec",
   "metadata": {},
   "outputs": [
    {
     "data": {
      "image/png": "[encoded data removed]",
      "text/plain": [
       "<Figure size 1000x600 with 1 Axes>"
      ]
     },
     "metadata": {},
     "output_type": "display_data"
    }
   ],
   "source": [
    "plt.figure(figsize=(10, 6))\n",
    "plt.hist(df_res['review_count'], bins=20, color='skyblue', edgecolor='black')\n",
    "plt.title('Distribución de Reseñas')\n",
    "plt.xlabel('Reseñas')\n",
    "plt.ylabel('Frecuencia')\n",
    "plt.show()\n"
   ]
  },
  {
   "cell_type": "code",
   "execution_count": null,
   "id": "6c723562",
   "metadata": {},
   "outputs": [
    {
     "data": {
      "application/vnd.microsoft.datawrangler.viewer.v0+json": {
       "columns": [
        {
         "name": "index",
         "rawType": "int64",
         "type": "integer"
        },
        {
         "name": "review_count",
         "rawType": "int64",
         "type": "integer"
        }
       ],
       "ref": "5fb971d0-99d7-476f-b402-94d1484791d3",
       "rows": [
        [
         "8",
         "6884"
        ],
        [
         "32",
         "5960"
        ],
        [
         "2",
         "2994"
        ],
        [
         "1",
         "2784"
        ],
        [
         "36",
         "2573"
        ],
        [
         "104",
         "2539"
        ],
        [
         "183",
         "2474"
        ],
        [
         "26",
         "2060"
        ],
        [
         "119",
         "1945"
        ],
        [
         "3",
         "1811"
        ],
        [
         "53",
         "1780"
        ],
        [
         "164",
         "1778"
        ],
        [
         "68",
         "1677"
        ],
        [
         "158",
         "1645"
        ],
        [
         "48",
         "1645"
        ],
        [
         "57",
         "1643"
        ],
        [
         "99",
         "1611"
        ],
        [
         "117",
         "1480"
        ],
        [
         "140",
         "1478"
        ],
        [
         "132",
         "1444"
        ],
        [
         "33",
         "1425"
        ],
        [
         "15",
         "1416"
        ],
        [
         "143",
         "1403"
        ],
        [
         "72",
         "1355"
        ],
        [
         "86",
         "1223"
        ],
        [
         "47",
         "1187"
        ],
        [
         "199",
         "1135"
        ],
        [
         "100",
         "1028"
        ],
        [
         "91",
         "1026"
        ],
        [
         "115",
         "1024"
        ],
        [
         "75",
         "1016"
        ],
        [
         "156",
         "1014"
        ],
        [
         "13",
         "947"
        ],
        [
         "4",
         "945"
        ],
        [
         "20",
         "916"
        ],
        [
         "49",
         "909"
        ],
        [
         "184",
         "898"
        ],
        [
         "18",
         "876"
        ],
        [
         "154",
         "757"
        ],
        [
         "30",
         "737"
        ],
        [
         "82",
         "723"
        ],
        [
         "21",
         "721"
        ],
        [
         "38",
         "719"
        ],
        [
         "41",
         "713"
        ],
        [
         "106",
         "708"
        ],
        [
         "6",
         "698"
        ],
        [
         "34",
         "693"
        ],
        [
         "67",
         "636"
        ],
        [
         "114",
         "591"
        ],
        [
         "136",
         "586"
        ]
       ],
       "shape": {
        "columns": 1,
        "rows": 199
       }
      },
      "text/plain": [
       "8      6884\n",
       "32     5960\n",
       "2      2994\n",
       "1      2784\n",
       "36     2573\n",
       "       ... \n",
       "130       1\n",
       "46        1\n",
       "85        1\n",
       "55        1\n",
       "76        1\n",
       "Name: review_count, Length: 199, dtype: int64"
      ]
     },
     "metadata": {},
     "output_type": "display_data"
    }
   ],
   "source": [
    "(df_res['review_count']).sort_values(ascending=False)"
   ]
  },
  {
   "cell_type": "code",
   "execution_count": null,
   "id": "1fa2bc0a",
   "metadata": {},
   "outputs": [
    {
     "data": {
      "image/png": "[encoded data removed]",
      "text/plain": [
       "<Figure size 1200x800 with 2 Axes>"
      ]
     },
     "metadata": {},
     "output_type": "display_data"
    }
   ],
   "source": [
    "num_cols = ['review_count', 'rating']\n",
    "plt.figure(figsize=(12,8))\n",
    "for i, col in enumerate(num_cols, 1):\n",
    "    plt.subplot(2, 3, i)\n",
    "    sns.boxplot(x=df[col])\n",
    "    plt.title(f'Boxplot de {col}')\n",
    "plt.tight_layout()\n",
    "plt.show()"
   ]
  },
  {
   "cell_type": "markdown",
   "id": "87775206",
   "metadata": {},
   "source": [
    "Recordemos que el cuadrado representa entre el primer y tercer cuartil. En este caso, entre 72 y 574.\n",
    "En el rating: es entre 4.1 y 4.5. Es decir, no hay mucho variabilidad.\n"
   ]
  },
  {
   "cell_type": "code",
   "execution_count": null,
   "id": "fd17eeaf",
   "metadata": {},
   "outputs": [
    {
     "data": {
      "application/vnd.microsoft.datawrangler.viewer.v0+json": {
       "columns": [
        {
         "name": "index",
         "rawType": "object",
         "type": "string"
        },
        {
         "name": "review_count",
         "rawType": "float64",
         "type": "float"
        }
       ],
       "ref": "a5e881db-07bc-434d-a839-54db2d7a8edb",
       "rows": [
        [
         "count",
         "199.0"
        ],
        [
         "mean",
         "510.9497487437186"
        ],
        [
         "std",
         "841.5921764141178"
        ],
        [
         "min",
         "1.0"
        ],
        [
         "25%",
         "72.5"
        ],
        [
         "50%",
         "213.0"
        ],
        [
         "75%",
         "574.5"
        ],
        [
         "max",
         "6884.0"
        ]
       ],
       "shape": {
        "columns": 1,
        "rows": 8
       }
      },
      "text/plain": [
       "count     199.000000\n",
       "mean      510.949749\n",
       "std       841.592176\n",
       "min         1.000000\n",
       "25%        72.500000\n",
       "50%       213.000000\n",
       "75%       574.500000\n",
       "max      6884.000000\n",
       "Name: review_count, dtype: float64"
      ]
     },
     "metadata": {},
     "output_type": "display_data"
    }
   ],
   "source": [
    "(df_res['review_count']).describe()"
   ]
  },
  {
   "cell_type": "code",
   "execution_count": null,
   "id": "398ec268",
   "metadata": {},
   "outputs": [
    {
     "data": {
      "application/vnd.microsoft.datawrangler.viewer.v0+json": {
       "columns": [
        {
         "name": "index",
         "rawType": "object",
         "type": "string"
        },
        {
         "name": "rating",
         "rawType": "float64",
         "type": "float"
        }
       ],
       "ref": "65935253-8416-4e8c-b4c0-2b8ebbba243d",
       "rows": [
        [
         "count",
         "199.0"
        ],
        [
         "mean",
         "4.338190954773869"
        ],
        [
         "std",
         "0.35140230436599346"
        ],
        [
         "min",
         "2.7"
        ],
        [
         "25%",
         "4.1"
        ],
        [
         "50%",
         "4.4"
        ],
        [
         "75%",
         "4.5"
        ],
        [
         "max",
         "5.0"
        ]
       ],
       "shape": {
        "columns": 1,
        "rows": 8
       }
      },
      "text/plain": [
       "count    199.000000\n",
       "mean       4.338191\n",
       "std        0.351402\n",
       "min        2.700000\n",
       "25%        4.100000\n",
       "50%        4.400000\n",
       "75%        4.500000\n",
       "max        5.000000\n",
       "Name: rating, dtype: float64"
      ]
     },
     "metadata": {},
     "output_type": "display_data"
    }
   ],
   "source": [
    "(df_res['rating']).describe()"
   ]
  },
  {
   "cell_type": "markdown",
   "id": "f9463494",
   "metadata": {},
   "source": [
    "Modificación de variable  precio:"
   ]
  },
  {
   "cell_type": "code",
   "execution_count": null,
   "id": "89445fbc",
   "metadata": {},
   "outputs": [
    {
     "data": {
      "application/vnd.microsoft.datawrangler.viewer.v0+json": {
       "columns": [
        {
         "name": "cat_precio",
         "rawType": "category",
         "type": "unknown"
        },
        {
         "name": "count",
         "rawType": "int64",
         "type": "integer"
        }
       ],
       "ref": "b4064a6a-dd7d-4372-8f32-7b307b90297d",
       "rows": [
        [
         "Medio",
         "92"
        ],
        [
         "Alto",
         "21"
        ],
        [
         "Bajo",
         "14"
        ],
        [
         "Muy alto",
         "7"
        ]
       ],
       "shape": {
        "columns": 1,
        "rows": 4
       }
      },
      "text/plain": [
       "cat_precio\n",
       "Medio       92\n",
       "Alto        21\n",
       "Bajo        14\n",
       "Muy alto     7\n",
       "Name: count, dtype: int64"
      ]
     },
     "metadata": {},
     "output_type": "display_data"
    }
   ],
   "source": [
    "# Recategorizo precio:\n",
    "\n",
    "# Diccionario\n",
    "price_map = {\n",
    "    '$': 'Bajo',\n",
    "    '$$': 'Medio',\n",
    "    '$$$': 'Alto',\n",
    "    '$$$$': 'Muy alto'\n",
    "}\n",
    "\n",
    "# columna categórica\n",
    "df_res['cat_precio'] = df_res['price'].map(price_map)\n",
    "\n",
    "# orden\n",
    "orden_precio = ['Bajo', 'Medio', 'Alto', 'Muy alto']\n",
    "\n",
    "# categoría ordenada\n",
    "df_res['cat_precio'] = pd.Categorical(\n",
    "    df_res['cat_precio'],\n",
    "    categories=orden_precio,\n",
    "    ordered=True\n",
    ")\n",
    "\n",
    "df_res['cat_precio'].value_counts()"
   ]
  },
  {
   "cell_type": "code",
   "execution_count": null,
   "id": "507bfc58",
   "metadata": {},
   "outputs": [
    {
     "data": {
      "image/png": "[encoded data removed]",
      "text/plain": [
       "<Figure size 1600x600 with 2 Axes>"
      ]
     },
     "metadata": {},
     "output_type": "display_data"
    }
   ],
   "source": [
    "# figura con 2 subplots (1 fila, 2 columnas)\n",
    "fig, axes = plt.subplots(1, 2, figsize=(16, 6))\n",
    "\n",
    "# Definir orden\n",
    "orden_precio = ['Bajo', 'Medio', 'Alto', 'Muy alto']\n",
    "\n",
    "# Boxplot 1: Review Count por precio\n",
    "sns.boxplot(data=df_res, x='cat_precio', y='review_count',\n",
    "            order=orden_precio, ax=axes[0])\n",
    "axes[0].set_title('Boxplot de Reseñas por Precio')\n",
    "axes[0].set_xlabel('Precio')\n",
    "axes[0].set_ylabel('Cantidad de reseñas')\n",
    "\n",
    "# Boxplot 2: Rating por precio\n",
    "sns.boxplot(data=df_res, x='cat_precio', y='rating',\n",
    "            order=orden_precio, ax=axes[1])\n",
    "axes[1].set_title('Boxplot de Rating por Precio')\n",
    "axes[1].set_xlabel('Precio')\n",
    "axes[1].set_ylabel('Rating')\n",
    "\n",
    "# Ajustamos diseño\n",
    "plt.tight_layout()\n",
    "plt.show()\n",
    "\n",
    "\n"
   ]
  },
  {
   "cell_type": "markdown",
   "id": "f0ac44fe",
   "metadata": {},
   "source": [
    "Los casos con rango intercuartilico más amplios tanto en reseñas como en rating, son los de precios altos. Las reseñas de precios medios tienen más dispersión. Los de precios muy altos son los más homogéneos, tanto en cantidad de reseñas como en puntaje.\n",
    "\n",
    "Es interesante que el rating no varía mucho según precio. Es decir, que evidentemente, en el putaje se tiene en cuenta la relación precio calidad.\n",
    "\n",
    "### Elaboración de rating de mejores restaurant para recomendar.\n",
    "\n",
    "1. Elaboración de rating ponderado."
   ]
  },
  {
   "cell_type": "code",
   "execution_count": null,
   "id": "0f06f221",
   "metadata": {},
   "outputs": [],
   "source": [
    "# Rating ajustado por cantidad de reviews:\n",
    "# Inicialmene ibamos a usar un umbral mínimo de reviews, pero dado que los de categoría alta, tienen muy pocos casos, decidimos no considerarlo.\n",
    "\n",
    "# Paso 1: logaritmo de review_count para achatar diferencias, es muy habitual para ingresos tambien:\n",
    "df_res['review_log'] = np.log1p(df_res['review_count'])  # log(1 + v) para evitar log(0)\n",
    "\n",
    "# Paso 2: normalizar entre 0 y 1\n",
    "min_log = df_res['review_log'].min()\n",
    "max_log = df_res['review_log'].max()\n",
    "df_res['review_norm'] = (df_res['review_log'] - min_log) / (max_log - min_log)\n",
    "\n",
    "# Paso 3: score ponderado usando review normalizada\n",
    "media_rating = df_res['rating'].mean()\n",
    "df_res['score'] = df_res['review_norm'] * df_res['rating'] + (1 - df_res['review_norm']) * media_rating"
   ]
  },
  {
   "cell_type": "markdown",
   "id": "578b82c3",
   "metadata": {},
   "source": [
    "2. Revisión del rating ponderado"
   ]
  },
  {
   "cell_type": "code",
   "execution_count": null,
   "id": "5a0a78a6",
   "metadata": {},
   "outputs": [
    {
     "name": "stdout",
     "output_type": "stream",
     "text": [
      "     rating  review_count     score\n",
      "3       4.8          1811  4.724303\n",
      "165     4.9           246  4.670438\n",
      "147     4.9           108  4.614006\n",
      "154     4.7           757  4.601976\n",
      "38      4.7           719  4.599691\n",
      "           rating  review_count       score\n",
      "count  199.000000    199.000000  199.000000\n",
      "mean     4.338191    510.949749    4.318403\n",
      "std      0.351402    841.592176    0.176444\n",
      "min      2.700000      1.000000    3.694764\n",
      "25%      4.100000     72.500000    4.229916\n",
      "50%      4.400000    213.000000    4.356396\n",
      "75%      4.500000    574.500000    4.430703\n",
      "max      5.000000   6884.000000    4.724303\n",
      "     rating  review_count     score cat_precio\n",
      "85      5.0             1  4.338191        NaN\n",
      "76      5.0             1  4.338191        NaN\n",
      "55      5.0             1  4.338191        NaN\n",
      "130     5.0             1  4.338191        NaN\n",
      "46      5.0             1  4.338191        NaN\n",
      "178     5.0             2  4.371141        NaN\n",
      "182     5.0             2  4.371141        NaN\n",
      "134     5.0             3  4.394519        NaN\n",
      "186     4.8             4  4.390150        NaN\n",
      "150     4.0             4  4.300140        NaN\n",
      "69      4.5             4  4.356396        NaN\n",
      "84      4.3             8  4.331138        NaN\n",
      "179     4.0             8  4.275732        NaN\n",
      "177     4.2            10  4.309264        NaN\n",
      "122     4.0            11  4.263785       Bajo\n",
      "173     4.7            11  4.417793        NaN\n",
      "50      4.6            13  4.400747        NaN\n",
      "77      4.6            14  4.402965       Alto\n",
      "19      4.3            15  4.328439        NaN\n",
      "194     3.1            16  4.012819        NaN\n",
      "71      4.2            18  4.299990        NaN\n",
      "66      4.4            18  4.355277        NaN\n",
      "62      4.7            22  4.446696        NaN\n",
      "108     4.5            22  4.386717        NaN\n",
      "188     4.9            23  4.509612        NaN\n",
      "185     3.7            24  4.140265       Bajo\n",
      "95      4.3            25  4.326163        NaN\n",
      "190     4.5            31  4.393278        NaN\n",
      "126     3.7            32  4.118509      Medio\n",
      "116     4.3            32  4.325045        NaN\n",
      "139     4.8            35  4.502092        NaN\n",
      "27      4.5            35  4.395619        NaN\n",
      "110     4.8            38  4.506631        NaN\n",
      "153     4.1            40  4.249851        NaN\n",
      "172     4.3            43  4.323696        NaN\n",
      "162     4.2            46  4.284621        NaN\n",
      "196     4.1            48  4.244637       Alto\n",
      "168     2.7            48  3.694764      Medio\n",
      "189     4.7            48  4.480297        NaN\n",
      "128     3.3            50  3.925324       Alto\n",
      "107     4.6            50  4.442307        NaN\n",
      "102     4.2            51  4.282906        NaN\n",
      "166     4.2            58  4.280763        NaN\n",
      "9       4.3            59  4.322241      Medio\n",
      "167     4.5            62  4.406737        NaN\n",
      "14      4.6            65  4.450595      Medio\n",
      "31      4.5            66  4.407960      Medio\n",
      "43      4.8            67  4.538156        NaN\n",
      "170     4.8            70  4.540604        NaN\n",
      "56      4.8            72  4.542179        NaN\n"
     ]
    }
   ],
   "source": [
    "# Revisión:\n",
    "\n",
    "print(df_res[['rating', 'review_count', 'score']].sort_values('score', ascending=False).head())\n",
    "print(df_res[['rating', 'review_count', 'score']].describe())\n",
    "#print(df.groupby('cat_precio')['score'].mean())\n",
    "\n",
    "print(df_res[['rating', 'review_count', 'score','cat_precio' ]].sort_values('review_count').head(50))"
   ]
  },
  {
   "cell_type": "code",
   "execution_count": null,
   "id": "f312b843",
   "metadata": {},
   "outputs": [
    {
     "name": "stdout",
     "output_type": "stream",
     "text": [
      "P10:  17.6\n",
      "P20:  50.0\n",
      "Rating mínimo:  3.6947642036526576\n"
     ]
    }
   ],
   "source": [
    "\n",
    "percentil_10 = df_res['review_count'].quantile(0.1)\n",
    "percentil_20 = df_res['review_count'].quantile(0.2)\n",
    "min_score = df_res['score'].min()\n",
    "\n",
    "print('P10: ', percentil_10)\n",
    "print('P20: ', percentil_20)\n",
    "print('Rating mínimo: ', min_score)\n"
   ]
  },
  {
   "cell_type": "markdown",
   "id": "b5b65f2a",
   "metadata": {},
   "source": [
    "3.  Reajuste: nuevo rating:\n",
    "\n",
    "No queremos incluir casos con muy pocas reseñas, o en todo caso bajarle el puntje, para que queden como última opción, cuando no tengamos casos de restaruant de determinada categoría de precios y comidas. En este dataset el percentil 20 es de 50 reseñas. El del percentil 10, 17 reseñas.\n",
    "Ajustaremos nuevamente el score (rating ajustado por cantidad de reseñas) de esta forma: \n",
    "- si reseñas es menor o igual al percentil 10, no se recomienda en ningún caso: score = 0\n",
    "- si reseñas está entre el percentil 11 y 20, se baja el puntaje a menos que el score mínimo. Esto es para que quede ordenada esta parte, y se pueda reocmendar si no hay otros casos de la misma categoría. \n",
    "- si reseñas es mayor al percentil 20, se usa el score. "
   ]
  },
  {
   "cell_type": "code",
   "execution_count": null,
   "id": "8deda3ba",
   "metadata": {},
   "outputs": [],
   "source": [
    "# Función para ajustar calculo:\n",
    "\n",
    "def calcular_rating_ponderado(row):\n",
    "    if row['review_count'] <= percentil_10:  #si review_count <= percentil 10: score = 0\n",
    "        return 0\n",
    "\n",
    "    elif row['review_count'] <= percentil_20:\n",
    "        # Escala lineal entre 0 y 1\n",
    "        peso = (row['review_count'] - percentil_10) / (percentil_20 - percentil_10)\n",
    "\n",
    "        # Escalamos entre 0 y min_score\n",
    "        return peso * min_score\n",
    "\n",
    "    else:\n",
    "        # A partir del p20 usamos directamente el score original\n",
    "        return row['score']\n",
    "\n",
    "\n",
    "# Aplicamos\n",
    "df_res['rating_ponderado'] = df_res.apply(calcular_rating_ponderado, axis=1)\n"
   ]
  },
  {
   "cell_type": "markdown",
   "id": "682fea93",
   "metadata": {},
   "source": [
    "4. Revisión de nuevo rating."
   ]
  },
  {
   "cell_type": "code",
   "execution_count": null,
   "id": "4588f978",
   "metadata": {},
   "outputs": [
    {
     "name": "stdout",
     "output_type": "stream",
     "text": [
      "P10:  17.6\n",
      "P20:  50.0\n",
      "     rating  review_count     score cat_precio  rating_ponderado\n",
      "85      5.0             1  4.338191        NaN          0.000000\n",
      "76      5.0             1  4.338191        NaN          0.000000\n",
      "55      5.0             1  4.338191        NaN          0.000000\n",
      "130     5.0             1  4.338191        NaN          0.000000\n",
      "46      5.0             1  4.338191        NaN          0.000000\n",
      "178     5.0             2  4.371141        NaN          0.000000\n",
      "182     5.0             2  4.371141        NaN          0.000000\n",
      "134     5.0             3  4.394519        NaN          0.000000\n",
      "186     4.8             4  4.390150        NaN          0.000000\n",
      "150     4.0             4  4.300140        NaN          0.000000\n",
      "69      4.5             4  4.356396        NaN          0.000000\n",
      "84      4.3             8  4.331138        NaN          0.000000\n",
      "179     4.0             8  4.275732        NaN          0.000000\n",
      "177     4.2            10  4.309264        NaN          0.000000\n",
      "122     4.0            11  4.263785       Bajo          0.000000\n",
      "173     4.7            11  4.417793        NaN          0.000000\n",
      "50      4.6            13  4.400747        NaN          0.000000\n",
      "77      4.6            14  4.402965       Alto          0.000000\n",
      "19      4.3            15  4.328439        NaN          0.000000\n",
      "194     3.1            16  4.012819        NaN          0.000000\n",
      "71      4.2            18  4.299990        NaN          0.045614\n",
      "66      4.4            18  4.355277        NaN          0.045614\n",
      "62      4.7            22  4.446696        NaN          0.501758\n",
      "108     4.5            22  4.386717        NaN          0.501758\n",
      "188     4.9            23  4.509612        NaN          0.615794\n",
      "185     3.7            24  4.140265       Bajo          0.729830\n",
      "95      4.3            25  4.326163        NaN          0.843866\n",
      "190     4.5            31  4.393278        NaN          1.528081\n",
      "126     3.7            32  4.118509      Medio          1.642117\n",
      "116     4.3            32  4.325045        NaN          1.642117\n",
      "139     4.8            35  4.502092        NaN          1.984225\n",
      "27      4.5            35  4.395619        NaN          1.984225\n",
      "110     4.8            38  4.506631        NaN          2.326333\n",
      "153     4.1            40  4.249851        NaN          2.554405\n",
      "172     4.3            43  4.323696        NaN          2.896513\n",
      "162     4.2            46  4.284621        NaN          3.238620\n",
      "196     4.1            48  4.244637       Alto          3.466692\n",
      "168     2.7            48  3.694764      Medio          3.466692\n",
      "189     4.7            48  4.480297        NaN          3.466692\n",
      "128     3.3            50  3.925324       Alto          3.694764\n",
      "107     4.6            50  4.442307        NaN          3.694764\n",
      "102     4.2            51  4.282906        NaN          4.282906\n",
      "166     4.2            58  4.280763        NaN          4.280763\n",
      "9       4.3            59  4.322241      Medio          4.322241\n",
      "167     4.5            62  4.406737        NaN          4.406737\n",
      "14      4.6            65  4.450595      Medio          4.450595\n",
      "31      4.5            66  4.407960      Medio          4.407960\n",
      "43      4.8            67  4.538156        NaN          4.538156\n",
      "170     4.8            70  4.540604        NaN          4.540604\n",
      "56      4.8            72  4.542179        NaN          4.542179\n",
      "           rating  review_count       score  rating_ponderado\n",
      "count  199.000000    199.000000  199.000000        199.000000\n",
      "mean     4.338191    510.949749    4.318403          3.634493\n",
      "std      0.351402    841.592176    0.176444          1.483312\n",
      "min      2.700000      1.000000    3.694764          0.000000\n",
      "25%      4.100000     72.500000    4.229916          3.980979\n",
      "50%      4.400000    213.000000    4.356396          4.308914\n",
      "75%      4.500000    574.500000    4.430703          4.416106\n",
      "max      5.000000   6884.000000    4.724303          4.724303\n"
     ]
    }
   ],
   "source": [
    "print('P10: ', percentil_10)\n",
    "print('P20: ', percentil_20)\n",
    "print(df_res[['rating', 'review_count', 'score','cat_precio', 'rating_ponderado']].sort_values('review_count').head(50))\n",
    "print(df_res[['rating', 'review_count', 'score', 'rating_ponderado']].describe())"
   ]
  },
  {
   "cell_type": "code",
   "execution_count": null,
   "id": "8c684aa4",
   "metadata": {},
   "outputs": [
    {
     "data": {
      "image/png": "[encoded data removed]",
      "text/plain": [
       "<Figure size 1000x600 with 1 Axes>"
      ]
     },
     "metadata": {},
     "output_type": "display_data"
    }
   ],
   "source": [
    "\n",
    "plt.figure(figsize=(10, 6))\n",
    "\n",
    "# Scatterplot con color según el score\n",
    "sns.scatterplot(\n",
    "    data=df_res,\n",
    "    x='review_count',\n",
    "    y='rating',\n",
    "    hue='rating_ponderado',\n",
    "    palette='viridis',\n",
    "    sizes=(50, 400),  # escala de tamaño\n",
    "    alpha=0.7\n",
    ")\n",
    "\n",
    "plt.axhline(df_res['rating'].mean(), color='red', linestyle='--', label='Media Rating')\n",
    "plt.axvline(df_res['review_count'].quantile(0.2), color='orange', linestyle='--', label='P20 Reviews')\n",
    "\n",
    "plt.title('Mapa de Rating por Reseñas con Rating ponderado')\n",
    "plt.xlabel('Cantidad de Reseñas')\n",
    "plt.ylabel('Rating ponderado')\n",
    "plt.legend()\n",
    "plt.show()\n"
   ]
  },
  {
   "cell_type": "code",
   "execution_count": null,
   "id": "9521eb5a",
   "metadata": {},
   "outputs": [
    {
     "name": "stderr",
     "output_type": "stream",
     "text": [
      "C:\\Users\\27267964837\\AppData\\Local\\Temp\\ipykernel_35128\\1775421539.py:4: UserWarning: Ignoring `palette` because no `hue` variable has been assigned.\n",
      "  sns.scatterplot(\n"
     ]
    },
    {
     "data": {
      "image/png": "[encoded data removed]",
      "text/plain": [
       "<Figure size 1000x600 with 1 Axes>"
      ]
     },
     "metadata": {},
     "output_type": "display_data"
    }
   ],
   "source": [
    "\n",
    "plt.figure(figsize=(10, 6))\n",
    "\n",
    "# Scatterplot con color según el score\n",
    "sns.scatterplot(\n",
    "    data=df_res,\n",
    "    x='review_count',\n",
    "    y='rating_ponderado',\n",
    "    palette='viridis',\n",
    "    sizes=(50, 400),  # escala de tamaño\n",
    "    alpha=0.7\n",
    ")\n",
    "\n",
    "plt.axhline(df_res['rating'].mean(), color='red', linestyle='--', label='Media Rating')\n",
    "plt.axvline(df_res['review_count'].quantile(0.2), color='orange', linestyle='--', label='P20 Reviews')\n",
    "\n",
    "plt.title('Mapa de Rating ponderado por Review Count ')\n",
    "plt.xlabel('Cantidad de Reseñas')\n",
    "plt.ylabel('Rating ponderado')\n",
    "plt.legend()\n",
    "plt.show()"
   ]
  },
  {
   "cell_type": "code",
   "execution_count": null,
   "id": "3350eaab",
   "metadata": {},
   "outputs": [
    {
     "data": {
      "image/png": "[encoded data removed]",
      "text/plain": [
       "<Figure size 1009.99x800 with 4 Axes>"
      ]
     },
     "metadata": {},
     "output_type": "display_data"
    }
   ],
   "source": [
    "\n",
    "# Definir orden de precios\n",
    "orden = ['Bajo', 'Medio', 'Alto', 'Muy alto']\n",
    "\n",
    "# Crear la figura con FacetGrid: 2 filas x 2 columnas\n",
    "g = sns.FacetGrid(df_res, col='cat_precio', col_order= orden,\n",
    "                  col_wrap=2, height=4, aspect=1.2)\n",
    "\n",
    "# Agregar scatterplot en cada faceta\n",
    "g.map_dataframe(\n",
    "    sns.scatterplot,\n",
    "    x='review_count',\n",
    "    y='rating_ponderado',\n",
    "    sizes=(30, 250),\n",
    "    alpha=0.7\n",
    ")\n",
    "\n",
    "# Ajustes generales\n",
    "g.set_axis_labels('Cantidad de reseñas', 'Rating ponderado')\n",
    "#g.set_titles(col_template='{col_name}')\n",
    "g.add_legend(title='Score')\n",
    "\n",
    "plt.subplots_adjust(top=0.9)\n",
    "g.fig.suptitle('Mapa de Rating ponderado por Cantidad de Reseñas')\n",
    "\n",
    "plt.show()\n"
   ]
  },
  {
   "cell_type": "markdown",
   "id": "c76e18da",
   "metadata": {},
   "source": [
    "## Categorías de restaurants:"
   ]
  },
  {
   "cell_type": "code",
   "execution_count": null,
   "id": "f5d964e7",
   "metadata": {},
   "outputs": [
    {
     "data": {
      "text/plain": [
       "array(['Asian Fusion', 'Steakhouses', 'Cocktail Bars', 'Mediterranean',\n",
       "       'Italian', 'Spanish', 'Cuban', 'Bars', 'Venues & Event Spaces',\n",
       "       'Seafood', 'American', 'Wine Bars', 'Desserts', 'Sports Bars',\n",
       "       'New American', 'Lounges', 'Breakfast & Brunch', 'Cafes',\n",
       "       'Coffee & Tea', 'Sandwiches', 'Sushi Bars', 'Argentine',\n",
       "       'Bakeries', 'Butcher', 'Comfort Food', 'Juice Bars & Smoothies',\n",
       "       'Korean', 'Mexican', 'Latin American', 'Greek', 'Lebanese',\n",
       "       'New Mexican Cuisine', 'Tacos', 'Burgers', 'Pop-Up Restaurants',\n",
       "       'Acai Bowls', 'Cajun/Creole', 'Polish', 'Modern European',\n",
       "       'Peruvian', 'Southern', 'Puerto Rican', 'Middle Eastern', 'French',\n",
       "       'Bubble Tea', 'Ramen', 'Live/Raw Food', 'Food Trucks', 'Barbeque',\n",
       "       'Empanadas', 'Patisserie/Cake Shop', 'Tapas/Small Plates', 'Thai',\n",
       "       'Nicaraguan', 'Portuguese', 'Jazz & Blues', 'Pop-up Shops',\n",
       "       'Persian/Iranian', 'Gastropubs', 'Indian', 'Food Court', 'Arabic',\n",
       "       'Chinese', 'Vegetarian', 'Food Stands', 'Beer, Wine & Spirits',\n",
       "       'Salad', 'Vegan', 'Caribbean', 'Pizza', 'Cheesesteaks', 'Buffets',\n",
       "       'Diners', 'Japanese', 'Noodles', 'Izakaya', 'Poke', 'Pan Asian',\n",
       "       'Dim Sum', 'Fast Food', 'Soul Food', 'Chicken Wings', 'Tapas Bars',\n",
       "       'Grocery', 'Turkish', 'Fruits & Veggies', 'Delis', 'Tex-Mex',\n",
       "       'Hot Dogs', 'Popcorn Shops', 'Seafood Markets', 'Venezuelan',\n",
       "       'Pasta Shops', 'Chicken Shop', 'Soup', 'Hotels', 'Restaurants'],\n",
       "      dtype=object)"
      ]
     },
     "metadata": {},
     "output_type": "display_data"
    }
   ],
   "source": [
    "# Convertir strings en listas/dicts de verdad\n",
    "df_res['categories'] = df_res['categories'].apply(\n",
    "    lambda x: ast.literal_eval(x) if isinstance(x, str) else x\n",
    ")\n",
    "\n",
    "# 1) extraer los títulos de cada categoría\n",
    "df_res['cat_titles'] = df_res['categories'].apply(lambda x: [d['title'] for d in x])\n",
    "\n",
    "# 2) 'explotar' la lista en varias filas\n",
    "df_long = df_res.explode('cat_titles')[['id', 'cat_titles']]\n",
    "\n",
    "df_long['cat_titles'].unique()"
   ]
  },
  {
   "cell_type": "code",
   "execution_count": null,
   "id": "8dd9e4e4",
   "metadata": {},
   "outputs": [
    {
     "data": {
      "application/vnd.microsoft.datawrangler.viewer.v0+json": {
       "columns": [
        {
         "name": "index",
         "rawType": "int64",
         "type": "integer"
        },
        {
         "name": "id",
         "rawType": "object",
         "type": "string"
        },
        {
         "name": "alias",
         "rawType": "object",
         "type": "string"
        },
        {
         "name": "name",
         "rawType": "object",
         "type": "string"
        },
        {
         "name": "image_url",
         "rawType": "object",
         "type": "string"
        },
        {
         "name": "is_closed",
         "rawType": "bool",
         "type": "boolean"
        },
        {
         "name": "url",
         "rawType": "object",
         "type": "string"
        },
        {
         "name": "review_count",
         "rawType": "int64",
         "type": "integer"
        },
        {
         "name": "categories",
         "rawType": "object",
         "type": "unknown"
        },
        {
         "name": "rating",
         "rawType": "float64",
         "type": "float"
        },
        {
         "name": "transactions",
         "rawType": "object",
         "type": "string"
        },
        {
         "name": "phone",
         "rawType": "float64",
         "type": "float"
        },
        {
         "name": "display_phone",
         "rawType": "object",
         "type": "string"
        },
        {
         "name": "distance",
         "rawType": "float64",
         "type": "float"
        },
        {
         "name": "coordinates.latitude",
         "rawType": "float64",
         "type": "float"
        },
        {
         "name": "coordinates.longitude",
         "rawType": "float64",
         "type": "float"
        },
        {
         "name": "location.address1",
         "rawType": "object",
         "type": "string"
        },
        {
         "name": "location.address2",
         "rawType": "object",
         "type": "unknown"
        },
        {
         "name": "location.address3",
         "rawType": "object",
         "type": "unknown"
        },
        {
         "name": "location.city",
         "rawType": "object",
         "type": "string"
        },
        {
         "name": "location.zip_code",
         "rawType": "float64",
         "type": "float"
        },
        {
         "name": "location.country",
         "rawType": "object",
         "type": "string"
        },
        {
         "name": "location.state",
         "rawType": "object",
         "type": "string"
        },
        {
         "name": "location.display_address",
         "rawType": "object",
         "type": "string"
        },
        {
         "name": "price",
         "rawType": "object",
         "type": "unknown"
        },
        {
         "name": "cat_precio",
         "rawType": "category",
         "type": "unknown"
        },
        {
         "name": "review_log",
         "rawType": "float64",
         "type": "float"
        },
        {
         "name": "review_norm",
         "rawType": "float64",
         "type": "float"
        },
        {
         "name": "score",
         "rawType": "float64",
         "type": "float"
        },
        {
         "name": "rating_ponderado",
         "rawType": "float64",
         "type": "float"
        },
        {
         "name": "cat_titles",
         "rawType": "object",
         "type": "unknown"
        }
       ],
       "ref": "7d9fbcbf-b720-41d9-a22e-6fa2acd6faa4",
       "rows": [
        [
         "0",
         "K3ukx2e11xTRtYBU01dmrA",
         "salty-flame-miami",
         "Salty Flame",
         "https://s3-media0.fl.yelpcdn.com/bphoto/_6wShTvzfucB5dxFZv4Mpg/o.jpg",
         "False",
         "https://www.yelp.com/biz/salty-flame-miami?adjust_creative=GWOCZh9-BmZxtdsAjr7Gug&utm_campaign=yelp_api_v3&utm_medium=api_v3_business_search&utm_source=GWOCZh9-BmZxtdsAjr7Gug",
         "190",
         "[{'alias': 'asianfusion', 'title': 'Asian Fusion'}, {'alias': 'steak', 'title': 'Steakhouses'}, {'alias': 'cocktailbars', 'title': 'Cocktail Bars'}]",
         "4.4",
         "['delivery', 'pickup']",
         "13055638972.0",
         "(305) 563-8972",
         "9568.050891007852",
         "25.76022",
         "-80.19267",
         "1414 Brickell Ave",
         null,
         null,
         "Miami",
         "33131.0",
         "US",
         "FL",
         "['1414 Brickell Ave', 'Miami, FL 33131']",
         null,
         null,
         "5.25227342804663",
         "0.5598173415773928",
         "4.372792730157799",
         "4.372792730157799",
         "['Asian Fusion', 'Steakhouses', 'Cocktail Bars']"
        ],
        [
         "1",
         "ix8ifP1jQM9ektdVAs19sQ",
         "crazy-about-you-miami-3",
         "Crazy About You",
         "https://s3-media0.fl.yelpcdn.com/bphoto/vvQBoPHlEO5bi5fbmM1B3w/o.jpg",
         "False",
         "https://www.yelp.com/biz/crazy-about-you-miami-3?adjust_creative=GWOCZh9-BmZxtdsAjr7Gug&utm_campaign=yelp_api_v3&utm_medium=api_v3_business_search&utm_source=GWOCZh9-BmZxtdsAjr7Gug",
         "2784",
         "[{'alias': 'mediterranean', 'title': 'Mediterranean'}, {'alias': 'italian', 'title': 'Italian'}, {'alias': 'spanish', 'title': 'Spanish'}]",
         "4.2",
         "['delivery', 'restaurant_reservation']",
         "13053774442.0",
         "(305) 377-4442",
         "9973.468955482576",
         "25.762015277335745",
         "-80.1889859201474",
         "1155 Brickell Bay Dr",
         "Ste 101",
         null,
         "Miami",
         "33131.0",
         "US",
         "FL",
         "['1155 Brickell Bay Dr', 'Ste 101', 'Miami, FL 33131']",
         "$$",
         "Medio",
         "7.932003152361385",
         "0.8888626649524146",
         "4.215358174441249",
         "4.215358174441249",
         "['Mediterranean', 'Italian', 'Spanish']"
        ],
        [
         "2",
         "UXHxLN3DcDGI57uDIfCuJA",
         "olds-havana-cuban-bar-and-cocina-miami",
         "Old's Havana Cuban Bar & Cocina",
         "https://s3-media0.fl.yelpcdn.com/bphoto/OyMD-xvBjobfDmDdBs2Jfw/o.jpg",
         "False",
         "https://www.yelp.com/biz/olds-havana-cuban-bar-and-cocina-miami?adjust_creative=GWOCZh9-BmZxtdsAjr7Gug&utm_campaign=yelp_api_v3&utm_medium=api_v3_business_search&utm_source=GWOCZh9-BmZxtdsAjr7Gug",
         "2994",
         "[{'alias': 'cuban', 'title': 'Cuban'}, {'alias': 'bars', 'title': 'Bars'}, {'alias': 'venues', 'title': 'Venues & Event Spaces'}]",
         "4.4",
         "['restaurant_reservation', 'pickup']",
         "17865182196.0",
         "(786) 518-2196",
         "7035.905419577772",
         "25.7655942148975",
         "-80.2192383373502",
         "1442 SW 8th St",
         null,
         null,
         "Miami",
         "33135.0",
         "US",
         "FL",
         "['1442 SW 8th St', 'Miami, FL 33135']",
         "$$",
         "Medio",
         "8.00469951054955",
         "0.8977890863266179",
         "4.393682441014159",
         "4.393682441014159",
         "['Cuban', 'Bars', 'Venues & Event Spaces']"
        ],
        [
         "3",
         "oxtMfBGmVNE18pFVuw7lFg",
         "fratellino-coral-gables-2",
         "Fratellino",
         "https://s3-media0.fl.yelpcdn.com/bphoto/OPS9ibIzgVyzcJ3ZyNf9IQ/o.jpg",
         "False",
         "https://www.yelp.com/biz/fratellino-coral-gables-2?adjust_creative=GWOCZh9-BmZxtdsAjr7Gug&utm_campaign=yelp_api_v3&utm_medium=api_v3_business_search&utm_source=GWOCZh9-BmZxtdsAjr7Gug",
         "1811",
         "[{'alias': 'italian', 'title': 'Italian'}]",
         "4.8",
         "['delivery', 'pickup']",
         "17864520068.0",
         "(786) 452-0068",
         "2834.064936518243",
         "25.74917",
         "-80.26011",
         "264 Miracle Mile",
         null,
         null,
         "Coral Gables",
         "33134.0",
         "US",
         "FL",
         "['264 Miracle Mile', 'Coral Gables, FL 33134']",
         "$$$",
         "Alto",
         "7.502186486602924",
         "0.8360852663613564",
         "4.724302693359842",
         "4.724302693359842",
         "['Italian']"
        ],
        [
         "4",
         "WqIBKxRUPXH3NqTViAHLxQ",
         "bayshore-club-bar-and-grill-miami",
         "Bayshore Club Bar & Grill",
         "https://s3-media0.fl.yelpcdn.com/bphoto/B7tTbJMlp7Dk6rpE4P3j5Q/o.jpg",
         "False",
         "https://www.yelp.com/biz/bayshore-club-bar-and-grill-miami?adjust_creative=GWOCZh9-BmZxtdsAjr7Gug&utm_campaign=yelp_api_v3&utm_medium=api_v3_business_search&utm_source=GWOCZh9-BmZxtdsAjr7Gug",
         "945",
         "[{'alias': 'seafood', 'title': 'Seafood'}, {'alias': 'tradamerican', 'title': 'American'}, {'alias': 'wine_bars', 'title': 'Wine Bars'}]",
         "4.3",
         "[]",
         "13052091200.0",
         "(305) 209-1200",
         "6023.917796785677",
         "25.72877375829567",
         "-80.2341624",
         "3391 Pan American Dr",
         null,
         null,
         "Miami",
         "33133.0",
         "US",
         "FL",
         "['3391 Pan American Dr', 'Miami, FL 33133']",
         "$$$",
         "Alto",
         "6.852242569051878",
         "0.7562783348690769",
         "4.309307963090427",
         "4.309307963090427",
         "['Seafood', 'American', 'Wine Bars']"
        ]
       ],
       "shape": {
        "columns": 30,
        "rows": 5
       }
      },
      "text/html": [
       "<div>\n",
       "<style scoped>\n",
       "    .dataframe tbody tr th:only-of-type {\n",
       "        vertical-align: middle;\n",
       "    }\n",
       "\n",
       "    .dataframe tbody tr th {\n",
       "        vertical-align: top;\n",
       "    }\n",
       "\n",
       "    .dataframe thead th {\n",
       "        text-align: right;\n",
       "    }\n",
       "</style>\n",
       "<table border=\"1\" class=\"dataframe\">\n",
       "  <thead>\n",
       "    <tr style=\"text-align: right;\">\n",
       "      <th></th>\n",
       "      <th>id</th>\n",
       "      <th>alias</th>\n",
       "      <th>name</th>\n",
       "      <th>image_url</th>\n",
       "      <th>is_closed</th>\n",
       "      <th>url</th>\n",
       "      <th>review_count</th>\n",
       "      <th>categories</th>\n",
       "      <th>rating</th>\n",
       "      <th>transactions</th>\n",
       "      <th>...</th>\n",
       "      <th>location.country</th>\n",
       "      <th>location.state</th>\n",
       "      <th>location.display_address</th>\n",
       "      <th>price</th>\n",
       "      <th>cat_precio</th>\n",
       "      <th>review_log</th>\n",
       "      <th>review_norm</th>\n",
       "      <th>score</th>\n",
       "      <th>rating_ponderado</th>\n",
       "      <th>cat_titles</th>\n",
       "    </tr>\n",
       "  </thead>\n",
       "  <tbody>\n",
       "    <tr>\n",
       "      <th>0</th>\n",
       "      <td>K3ukx2e11xTRtYBU01dmrA</td>\n",
       "      <td>salty-flame-miami</td>\n",
       "      <td>Salty Flame</td>\n",
       "      <td>https://s3-media0.fl.yelpcdn.com/bphoto/_6wShT...</td>\n",
       "      <td>False</td>\n",
       "      <td>https://www.yelp.com/biz/salty-flame-miami?adj...</td>\n",
       "      <td>190</td>\n",
       "      <td>[{'alias': 'asianfusion', 'title': 'Asian Fusi...</td>\n",
       "      <td>4.4</td>\n",
       "      <td>['delivery', 'pickup']</td>\n",
       "      <td>...</td>\n",
       "      <td>US</td>\n",
       "      <td>FL</td>\n",
       "      <td>['1414 Brickell Ave', 'Miami, FL 33131']</td>\n",
       "      <td>NaN</td>\n",
       "      <td>NaN</td>\n",
       "      <td>5.252273</td>\n",
       "      <td>0.559817</td>\n",
       "      <td>4.372793</td>\n",
       "      <td>4.372793</td>\n",
       "      <td>[Asian Fusion, Steakhouses, Cocktail Bars]</td>\n",
       "    </tr>\n",
       "    <tr>\n",
       "      <th>1</th>\n",
       "      <td>ix8ifP1jQM9ektdVAs19sQ</td>\n",
       "      <td>crazy-about-you-miami-3</td>\n",
       "      <td>Crazy About You</td>\n",
       "      <td>https://s3-media0.fl.yelpcdn.com/bphoto/vvQBoP...</td>\n",
       "      <td>False</td>\n",
       "      <td>https://www.yelp.com/biz/crazy-about-you-miami...</td>\n",
       "      <td>2784</td>\n",
       "      <td>[{'alias': 'mediterranean', 'title': 'Mediterr...</td>\n",
       "      <td>4.2</td>\n",
       "      <td>['delivery', 'restaurant_reservation']</td>\n",
       "      <td>...</td>\n",
       "      <td>US</td>\n",
       "      <td>FL</td>\n",
       "      <td>['1155 Brickell Bay Dr', 'Ste 101', 'Miami, FL...</td>\n",
       "      <td>$$</td>\n",
       "      <td>Medio</td>\n",
       "      <td>7.932003</td>\n",
       "      <td>0.888863</td>\n",
       "      <td>4.215358</td>\n",
       "      <td>4.215358</td>\n",
       "      <td>[Mediterranean, Italian, Spanish]</td>\n",
       "    </tr>\n",
       "    <tr>\n",
       "      <th>2</th>\n",
       "      <td>UXHxLN3DcDGI57uDIfCuJA</td>\n",
       "      <td>olds-havana-cuban-bar-and-cocina-miami</td>\n",
       "      <td>Old's Havana Cuban Bar &amp; Cocina</td>\n",
       "      <td>https://s3-media0.fl.yelpcdn.com/bphoto/OyMD-x...</td>\n",
       "      <td>False</td>\n",
       "      <td>https://www.yelp.com/biz/olds-havana-cuban-bar...</td>\n",
       "      <td>2994</td>\n",
       "      <td>[{'alias': 'cuban', 'title': 'Cuban'}, {'alias...</td>\n",
       "      <td>4.4</td>\n",
       "      <td>['restaurant_reservation', 'pickup']</td>\n",
       "      <td>...</td>\n",
       "      <td>US</td>\n",
       "      <td>FL</td>\n",
       "      <td>['1442 SW 8th St', 'Miami, FL 33135']</td>\n",
       "      <td>$$</td>\n",
       "      <td>Medio</td>\n",
       "      <td>8.004700</td>\n",
       "      <td>0.897789</td>\n",
       "      <td>4.393682</td>\n",
       "      <td>4.393682</td>\n",
       "      <td>[Cuban, Bars, Venues &amp; Event Spaces]</td>\n",
       "    </tr>\n",
       "    <tr>\n",
       "      <th>3</th>\n",
       "      <td>oxtMfBGmVNE18pFVuw7lFg</td>\n",
       "      <td>fratellino-coral-gables-2</td>\n",
       "      <td>Fratellino</td>\n",
       "      <td>https://s3-media0.fl.yelpcdn.com/bphoto/OPS9ib...</td>\n",
       "      <td>False</td>\n",
       "      <td>https://www.yelp.com/biz/fratellino-coral-gabl...</td>\n",
       "      <td>1811</td>\n",
       "      <td>[{'alias': 'italian', 'title': 'Italian'}]</td>\n",
       "      <td>4.8</td>\n",
       "      <td>['delivery', 'pickup']</td>\n",
       "      <td>...</td>\n",
       "      <td>US</td>\n",
       "      <td>FL</td>\n",
       "      <td>['264 Miracle Mile', 'Coral Gables, FL 33134']</td>\n",
       "      <td>$$$</td>\n",
       "      <td>Alto</td>\n",
       "      <td>7.502186</td>\n",
       "      <td>0.836085</td>\n",
       "      <td>4.724303</td>\n",
       "      <td>4.724303</td>\n",
       "      <td>[Italian]</td>\n",
       "    </tr>\n",
       "    <tr>\n",
       "      <th>4</th>\n",
       "      <td>WqIBKxRUPXH3NqTViAHLxQ</td>\n",
       "      <td>bayshore-club-bar-and-grill-miami</td>\n",
       "      <td>Bayshore Club Bar &amp; Grill</td>\n",
       "      <td>https://s3-media0.fl.yelpcdn.com/bphoto/B7tTbJ...</td>\n",
       "      <td>False</td>\n",
       "      <td>https://www.yelp.com/biz/bayshore-club-bar-and...</td>\n",
       "      <td>945</td>\n",
       "      <td>[{'alias': 'seafood', 'title': 'Seafood'}, {'a...</td>\n",
       "      <td>4.3</td>\n",
       "      <td>[]</td>\n",
       "      <td>...</td>\n",
       "      <td>US</td>\n",
       "      <td>FL</td>\n",
       "      <td>['3391 Pan American Dr', 'Miami, FL 33133']</td>\n",
       "      <td>$$$</td>\n",
       "      <td>Alto</td>\n",
       "      <td>6.852243</td>\n",
       "      <td>0.756278</td>\n",
       "      <td>4.309308</td>\n",
       "      <td>4.309308</td>\n",
       "      <td>[Seafood, American, Wine Bars]</td>\n",
       "    </tr>\n",
       "  </tbody>\n",
       "</table>\n",
       "<p>5 rows × 30 columns</p>\n",
       "</div>"
      ],
      "text/plain": [
       "                       id                                   alias  \\\n",
       "0  K3ukx2e11xTRtYBU01dmrA                       salty-flame-miami   \n",
       "1  ix8ifP1jQM9ektdVAs19sQ                 crazy-about-you-miami-3   \n",
       "2  UXHxLN3DcDGI57uDIfCuJA  olds-havana-cuban-bar-and-cocina-miami   \n",
       "3  oxtMfBGmVNE18pFVuw7lFg               fratellino-coral-gables-2   \n",
       "4  WqIBKxRUPXH3NqTViAHLxQ       bayshore-club-bar-and-grill-miami   \n",
       "\n",
       "                              name  \\\n",
       "0                      Salty Flame   \n",
       "1                  Crazy About You   \n",
       "2  Old's Havana Cuban Bar & Cocina   \n",
       "3                       Fratellino   \n",
       "4        Bayshore Club Bar & Grill   \n",
       "\n",
       "                                           image_url  is_closed  \\\n",
       "0  https://s3-media0.fl.yelpcdn.com/bphoto/_6wShT...      False   \n",
       "1  https://s3-media0.fl.yelpcdn.com/bphoto/vvQBoP...      False   \n",
       "2  https://s3-media0.fl.yelpcdn.com/bphoto/OyMD-x...      False   \n",
       "3  https://s3-media0.fl.yelpcdn.com/bphoto/OPS9ib...      False   \n",
       "4  https://s3-media0.fl.yelpcdn.com/bphoto/B7tTbJ...      False   \n",
       "\n",
       "                                                 url  review_count  \\\n",
       "0  https://www.yelp.com/biz/salty-flame-miami?adj...           190   \n",
       "1  https://www.yelp.com/biz/crazy-about-you-miami...          2784   \n",
       "2  https://www.yelp.com/biz/olds-havana-cuban-bar...          2994   \n",
       "3  https://www.yelp.com/biz/fratellino-coral-gabl...          1811   \n",
       "4  https://www.yelp.com/biz/bayshore-club-bar-and...           945   \n",
       "\n",
       "                                          categories  rating  \\\n",
       "0  [{'alias': 'asianfusion', 'title': 'Asian Fusi...     4.4   \n",
       "1  [{'alias': 'mediterranean', 'title': 'Mediterr...     4.2   \n",
       "2  [{'alias': 'cuban', 'title': 'Cuban'}, {'alias...     4.4   \n",
       "3         [{'alias': 'italian', 'title': 'Italian'}]     4.8   \n",
       "4  [{'alias': 'seafood', 'title': 'Seafood'}, {'a...     4.3   \n",
       "\n",
       "                             transactions  ...  location.country  \\\n",
       "0                  ['delivery', 'pickup']  ...                US   \n",
       "1  ['delivery', 'restaurant_reservation']  ...                US   \n",
       "2    ['restaurant_reservation', 'pickup']  ...                US   \n",
       "3                  ['delivery', 'pickup']  ...                US   \n",
       "4                                      []  ...                US   \n",
       "\n",
       "  location.state                           location.display_address  price  \\\n",
       "0             FL           ['1414 Brickell Ave', 'Miami, FL 33131']    NaN   \n",
       "1             FL  ['1155 Brickell Bay Dr', 'Ste 101', 'Miami, FL...     $$   \n",
       "2             FL              ['1442 SW 8th St', 'Miami, FL 33135']     $$   \n",
       "3             FL     ['264 Miracle Mile', 'Coral Gables, FL 33134']    $$$   \n",
       "4             FL        ['3391 Pan American Dr', 'Miami, FL 33133']    $$$   \n",
       "\n",
       "   cat_precio review_log review_norm     score rating_ponderado  \\\n",
       "0         NaN   5.252273    0.559817  4.372793         4.372793   \n",
       "1       Medio   7.932003    0.888863  4.215358         4.215358   \n",
       "2       Medio   8.004700    0.897789  4.393682         4.393682   \n",
       "3        Alto   7.502186    0.836085  4.724303         4.724303   \n",
       "4        Alto   6.852243    0.756278  4.309308         4.309308   \n",
       "\n",
       "                                   cat_titles  \n",
       "0  [Asian Fusion, Steakhouses, Cocktail Bars]  \n",
       "1           [Mediterranean, Italian, Spanish]  \n",
       "2        [Cuban, Bars, Venues & Event Spaces]  \n",
       "3                                   [Italian]  \n",
       "4              [Seafood, American, Wine Bars]  \n",
       "\n",
       "[5 rows x 30 columns]"
      ]
     },
     "metadata": {},
     "output_type": "display_data"
    }
   ],
   "source": [
    "df_res.head()"
   ]
  },
  {
   "cell_type": "code",
   "execution_count": null,
   "id": "a031c590",
   "metadata": {},
   "outputs": [],
   "source": [
    "col_sel = ['id', 'alias', 'name', 'review_count', 'categories', 'rating', 'transactions',\n",
    " 'coordinates.latitude', 'coordinates.longitude', 'location.city', 'price',\n",
    " 'cat_precio', 'score', 'rating_ponderado', 'cat_titles']\n",
    "\n",
    "df_res.to_csv('yelp_restaurantes_miami_limpia.csv', columns=col_sel, index= False)"
   ]
  }
 ],
 "metadata": {
  "colab": {
   "provenance": []
  },
  "kernelspec": {
   "display_name": "Python (Anaconda base)",
   "language": "python",
   "name": "base"
  },
  "language_info": {
   "codemirror_mode": {
    "name": "ipython",
    "version": 3
   },
   "file_extension": ".py",
   "mimetype": "text/x-python",
   "name": "python",
   "nbconvert_exporter": "python",
   "pygments_lexer": "ipython3",
   "version": "3.12.7"
  }
 },
 "nbformat": 4,
 "nbformat_minor": 5
}
